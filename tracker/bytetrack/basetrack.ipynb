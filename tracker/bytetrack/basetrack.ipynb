{
 "cells": [
  {
   "cell_type": "code",
   "execution_count": null,
   "metadata": {},
   "outputs": [],
   "source": [
    "import numpy as np\n",
    "from collections import OrderedDict\n",
    "\n",
    "\n",
    "class TrackState(object):\n",
    "    New = 0\n",
    "    Tracked = 1\n",
    "    Lost = 2\n",
    "    Removed = 3\n",
    "\n",
    "\n",
    "class BaseTrack(object):\n",
    "    _count = 0\n",
    "\n",
    "    track_id = 0\n",
    "    is_activated = False\n",
    "    state = TrackState.New\n",
    "\n",
    "    history = OrderedDict()\n",
    "    features = []\n",
    "    curr_feature = None\n",
    "    score = 0\n",
    "    start_frame = 0\n",
    "    frame_id = 0\n",
    "    time_since_update = 0\n",
    "\n",
    "    # multi-camera\n",
    "    location = (np.inf, np.inf)\n",
    "\n",
    "    @property\n",
    "    def end_frame(self):\n",
    "        return self.frame_id\n",
    "\n",
    "    @staticmethod\n",
    "    def next_id():\n",
    "        BaseTrack._count += 1\n",
    "        return BaseTrack._count\n",
    "\n",
    "    def activate(self, *args):\n",
    "        raise NotImplementedError\n",
    "\n",
    "    def predict(self):\n",
    "        raise NotImplementedError\n",
    "\n",
    "    def update(self, *args, **kwargs):\n",
    "        raise NotImplementedError\n",
    "\n",
    "    def mark_lost(self):\n",
    "        self.state = TrackState.Lost\n",
    "\n",
    "    def mark_removed(self):\n",
    "        self.state = TrackState.Removed"
   ]
  }
 ],
 "metadata": {
  "anaconda-cloud": {},
  "kernelspec": {
   "display_name": "Python 3 (ipykernel)",
   "language": "python",
   "name": "python3"
  },
  "language_info": {
   "codemirror_mode": {
    "name": "ipython",
    "version": 3
   },
   "file_extension": ".py",
   "mimetype": "text/x-python",
   "name": "python",
   "nbconvert_exporter": "python",
   "pygments_lexer": "ipython3",
   "version": "3.10.6"
  }
 },
 "nbformat": 4,
 "nbformat_minor": 4
}
