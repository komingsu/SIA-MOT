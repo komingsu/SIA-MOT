{
 "cells": [
  {
   "cell_type": "code",
   "execution_count": null,
   "id": "78b7ba2c",
   "metadata": {},
   "outputs": [],
   "source": [
    "from onemetric.cv.utils.iou import box_iou_batch # pip install onemetric\n",
    "\n",
    "import numpy as np\n",
    "\n",
    "\n",
    "def tracks2boxes(tracks):\n",
    "    return np.array([\n",
    "        track.tlbr\n",
    "        for track\n",
    "        in tracks\n",
    "    ], dtype=float)\n",
    "\n",
    "\n",
    "# matches our bounding boxes with predictions\n",
    "# boxs 입력 : xyxy, tracks : STrack\n",
    "def match_detections_with_tracks(boxs, tracks):\n",
    "    if not np.any(boxs) or len(tracks) == 0:\n",
    "        return np.empty((0,))\n",
    "\n",
    "    tracks_boxes = tracks2boxes(tracks=tracks)\n",
    "    iou = box_iou_batch(tracks_boxes, boxs)\n",
    "    track2detection = np.argmax(iou, axis=1)\n",
    "\n",
    "    tracker_ids = [None] * len(boxs)\n",
    "\n",
    "    for tracker_index, detection_index in enumerate(track2detection):\n",
    "        if iou[tracker_index, detection_index] != 0:\n",
    "            tracker_ids[detection_index] = tracks[tracker_index].track_id\n",
    "\n",
    "    return tracker_ids\n",
    "\n",
    "def convert_boxes(image, boxes):\n",
    "    returned_boxes = []\n",
    "    for box in boxes:\n",
    "        box[0] = (box[0] * image.shape[1]).astype(int) \n",
    "        box[1] = (box[1] * image.shape[0]).astype(int)\n",
    "        box[2] = (box[2] * image.shape[1]).astype(int)\n",
    "        box[3] = (box[3] * image.shape[0]).astype(int)\n",
    "        box[2] = int(box[2]-box[0])\n",
    "        box[3] = int(box[3]-box[1])\n",
    "        box = box.astype(int)\n",
    "        box = box.tolist()\n",
    "        if box != [0,0,0,0]:\n",
    "            returned_boxes.append(box)\n",
    "    return returned_boxes"
   ]
  }
 ],
 "metadata": {
  "kernelspec": {
   "display_name": "Python 3 (ipykernel)",
   "language": "python",
   "name": "python3"
  },
  "language_info": {
   "codemirror_mode": {
    "name": "ipython",
    "version": 3
   },
   "file_extension": ".py",
   "mimetype": "text/x-python",
   "name": "python",
   "nbconvert_exporter": "python",
   "pygments_lexer": "ipython3",
   "version": "3.10.6"
  }
 },
 "nbformat": 4,
 "nbformat_minor": 5
}
