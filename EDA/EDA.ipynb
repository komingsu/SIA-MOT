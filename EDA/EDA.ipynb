{
 "cells": [
  {
   "cell_type": "markdown",
   "id": "febf87b1",
   "metadata": {},
   "source": []
  },
  {
   "cell_type": "code",
   "execution_count": 90,
   "id": "07c98539",
   "metadata": {
    "ExecuteTime": {
     "end_time": "2023-06-29T09:14:55.812091Z",
     "start_time": "2023-06-29T09:14:55.721340Z"
    }
   },
   "outputs": [],
   "source": [
    "import os\n",
    "from glob import glob\n",
    "import pandas as pd\n",
    "from tqdm.auto import tqdm"
   ]
  },
  {
   "cell_type": "markdown",
   "id": "4ec18a5f",
   "metadata": {},
   "source": [
    "# explore folder"
   ]
  },
  {
   "cell_type": "code",
   "execution_count": 14,
   "id": "71d81f72",
   "metadata": {
    "ExecuteTime": {
     "end_time": "2023-06-29T07:27:46.900375Z",
     "start_time": "2023-06-29T07:27:46.888813Z"
    }
   },
   "outputs": [
    {
     "data": {
      "text/plain": [
       "['D:visdrone\\\\raw_data_zip',\n",
       " 'D:visdrone\\\\VisDrone2019-MOT-test-challenge',\n",
       " 'D:visdrone\\\\VisDrone2019-MOT-test-dev',\n",
       " 'D:visdrone\\\\VisDrone2019-MOT-train',\n",
       " 'D:visdrone\\\\VisDrone2019-MOT-val']"
      ]
     },
     "execution_count": 14,
     "metadata": {},
     "output_type": "execute_result"
    }
   ],
   "source": [
    "# 프로젝트 데이터 폴더\n",
    "file_dir = \"D:visdrone/\"\n",
    "filelist_file_dir = glob(file_dir+\"*\")\n",
    "filelist_file_dir"
   ]
  },
  {
   "cell_type": "code",
   "execution_count": 24,
   "id": "86a749c4",
   "metadata": {
    "ExecuteTime": {
     "end_time": "2023-06-29T07:30:08.269035Z",
     "start_time": "2023-06-29T07:30:08.256213Z"
    }
   },
   "outputs": [
    {
     "data": {
      "text/plain": [
       "[['D:visdrone\\\\raw_data_zip\\\\VisDrone2019-MOT-test-challenge.zip',\n",
       "  'D:visdrone\\\\raw_data_zip\\\\VisDrone2019-MOT-test-dev.zip',\n",
       "  'D:visdrone\\\\raw_data_zip\\\\VisDrone2019-MOT-train.zip',\n",
       "  'D:visdrone\\\\raw_data_zip\\\\VisDrone2019-MOT-val.zip'],\n",
       " ['D:visdrone\\\\VisDrone2019-MOT-test-challenge\\\\sequences'],\n",
       " ['D:visdrone\\\\VisDrone2019-MOT-test-dev\\\\annotations',\n",
       "  'D:visdrone\\\\VisDrone2019-MOT-test-dev\\\\sequences'],\n",
       " ['D:visdrone\\\\VisDrone2019-MOT-train\\\\annotations',\n",
       "  'D:visdrone\\\\VisDrone2019-MOT-train\\\\sequences'],\n",
       " ['D:visdrone\\\\VisDrone2019-MOT-val\\\\annotations',\n",
       "  'D:visdrone\\\\VisDrone2019-MOT-val\\\\sequences']]"
      ]
     },
     "execution_count": 24,
     "metadata": {},
     "output_type": "execute_result"
    }
   ],
   "source": [
    "# every file_folder\n",
    "[glob(f+\"/*\") for f in filelist_file_dir]"
   ]
  },
  {
   "cell_type": "code",
   "execution_count": 31,
   "id": "28f624ed",
   "metadata": {
    "ExecuteTime": {
     "end_time": "2023-06-29T07:32:25.114847Z",
     "start_time": "2023-06-29T07:32:25.106595Z"
    }
   },
   "outputs": [
    {
     "data": {
      "text/plain": [
       "['D:visdrone\\\\VisDrone2019-MOT-val/annotations\\\\uav0000086_00000_v.txt',\n",
       " 'D:visdrone\\\\VisDrone2019-MOT-val/annotations\\\\uav0000117_02622_v.txt',\n",
       " 'D:visdrone\\\\VisDrone2019-MOT-val/annotations\\\\uav0000137_00458_v.txt',\n",
       " 'D:visdrone\\\\VisDrone2019-MOT-val/annotations\\\\uav0000182_00000_v.txt',\n",
       " 'D:visdrone\\\\VisDrone2019-MOT-val/annotations\\\\uav0000268_05773_v.txt',\n",
       " 'D:visdrone\\\\VisDrone2019-MOT-val/annotations\\\\uav0000305_00000_v.txt',\n",
       " 'D:visdrone\\\\VisDrone2019-MOT-val/annotations\\\\uav0000339_00001_v.txt']"
      ]
     },
     "execution_count": 31,
     "metadata": {},
     "output_type": "execute_result"
    }
   ],
   "source": [
    "val_dir = filelist_file_dir[4]\n",
    "# val_annotations\n",
    "val_anno = glob(val_dir + \"/annotations/*\")\n",
    "val_anno"
   ]
  },
  {
   "cell_type": "code",
   "execution_count": 32,
   "id": "9dacf3b2",
   "metadata": {
    "ExecuteTime": {
     "end_time": "2023-06-29T07:32:28.302504Z",
     "start_time": "2023-06-29T07:32:28.289007Z"
    }
   },
   "outputs": [
    {
     "data": {
      "text/plain": [
       "['D:visdrone\\\\VisDrone2019-MOT-val/sequences\\\\uav0000086_00000_v',\n",
       " 'D:visdrone\\\\VisDrone2019-MOT-val/sequences\\\\uav0000117_02622_v',\n",
       " 'D:visdrone\\\\VisDrone2019-MOT-val/sequences\\\\uav0000137_00458_v',\n",
       " 'D:visdrone\\\\VisDrone2019-MOT-val/sequences\\\\uav0000182_00000_v',\n",
       " 'D:visdrone\\\\VisDrone2019-MOT-val/sequences\\\\uav0000268_05773_v',\n",
       " 'D:visdrone\\\\VisDrone2019-MOT-val/sequences\\\\uav0000305_00000_v',\n",
       " 'D:visdrone\\\\VisDrone2019-MOT-val/sequences\\\\uav0000339_00001_v']"
      ]
     },
     "execution_count": 32,
     "metadata": {},
     "output_type": "execute_result"
    }
   ],
   "source": [
    "# val_annotations\n",
    "val_seq = glob(val_dir + \"/sequences/*\")\n",
    "val_seq"
   ]
  },
  {
   "cell_type": "code",
   "execution_count": 34,
   "id": "cab7f23e",
   "metadata": {
    "ExecuteTime": {
     "end_time": "2023-06-29T07:34:44.077882Z",
     "start_time": "2023-06-29T07:34:44.065839Z"
    }
   },
   "outputs": [
    {
     "data": {
      "text/plain": [
       "['D:visdrone\\\\VisDrone2019-MOT-val/sequences\\\\uav0000086_00000_v\\\\0000001.jpg',\n",
       " 'D:visdrone\\\\VisDrone2019-MOT-val/sequences\\\\uav0000086_00000_v\\\\0000002.jpg',\n",
       " 'D:visdrone\\\\VisDrone2019-MOT-val/sequences\\\\uav0000086_00000_v\\\\0000003.jpg',\n",
       " 'D:visdrone\\\\VisDrone2019-MOT-val/sequences\\\\uav0000086_00000_v\\\\0000004.jpg',\n",
       " 'D:visdrone\\\\VisDrone2019-MOT-val/sequences\\\\uav0000086_00000_v\\\\0000005.jpg',\n",
       " 'D:visdrone\\\\VisDrone2019-MOT-val/sequences\\\\uav0000086_00000_v\\\\0000006.jpg',\n",
       " 'D:visdrone\\\\VisDrone2019-MOT-val/sequences\\\\uav0000086_00000_v\\\\0000007.jpg',\n",
       " 'D:visdrone\\\\VisDrone2019-MOT-val/sequences\\\\uav0000086_00000_v\\\\0000008.jpg',\n",
       " 'D:visdrone\\\\VisDrone2019-MOT-val/sequences\\\\uav0000086_00000_v\\\\0000009.jpg',\n",
       " 'D:visdrone\\\\VisDrone2019-MOT-val/sequences\\\\uav0000086_00000_v\\\\0000010.jpg',\n",
       " 'D:visdrone\\\\VisDrone2019-MOT-val/sequences\\\\uav0000086_00000_v\\\\0000011.jpg',\n",
       " 'D:visdrone\\\\VisDrone2019-MOT-val/sequences\\\\uav0000086_00000_v\\\\0000012.jpg',\n",
       " 'D:visdrone\\\\VisDrone2019-MOT-val/sequences\\\\uav0000086_00000_v\\\\0000013.jpg',\n",
       " 'D:visdrone\\\\VisDrone2019-MOT-val/sequences\\\\uav0000086_00000_v\\\\0000014.jpg',\n",
       " 'D:visdrone\\\\VisDrone2019-MOT-val/sequences\\\\uav0000086_00000_v\\\\0000015.jpg',\n",
       " 'D:visdrone\\\\VisDrone2019-MOT-val/sequences\\\\uav0000086_00000_v\\\\0000016.jpg',\n",
       " 'D:visdrone\\\\VisDrone2019-MOT-val/sequences\\\\uav0000086_00000_v\\\\0000017.jpg',\n",
       " 'D:visdrone\\\\VisDrone2019-MOT-val/sequences\\\\uav0000086_00000_v\\\\0000018.jpg',\n",
       " 'D:visdrone\\\\VisDrone2019-MOT-val/sequences\\\\uav0000086_00000_v\\\\0000019.jpg',\n",
       " 'D:visdrone\\\\VisDrone2019-MOT-val/sequences\\\\uav0000086_00000_v\\\\0000020.jpg',\n",
       " 'D:visdrone\\\\VisDrone2019-MOT-val/sequences\\\\uav0000086_00000_v\\\\0000021.jpg',\n",
       " 'D:visdrone\\\\VisDrone2019-MOT-val/sequences\\\\uav0000086_00000_v\\\\0000022.jpg',\n",
       " 'D:visdrone\\\\VisDrone2019-MOT-val/sequences\\\\uav0000086_00000_v\\\\0000023.jpg',\n",
       " 'D:visdrone\\\\VisDrone2019-MOT-val/sequences\\\\uav0000086_00000_v\\\\0000024.jpg',\n",
       " 'D:visdrone\\\\VisDrone2019-MOT-val/sequences\\\\uav0000086_00000_v\\\\0000025.jpg',\n",
       " 'D:visdrone\\\\VisDrone2019-MOT-val/sequences\\\\uav0000086_00000_v\\\\0000026.jpg',\n",
       " 'D:visdrone\\\\VisDrone2019-MOT-val/sequences\\\\uav0000086_00000_v\\\\0000027.jpg',\n",
       " 'D:visdrone\\\\VisDrone2019-MOT-val/sequences\\\\uav0000086_00000_v\\\\0000028.jpg',\n",
       " 'D:visdrone\\\\VisDrone2019-MOT-val/sequences\\\\uav0000086_00000_v\\\\0000029.jpg',\n",
       " 'D:visdrone\\\\VisDrone2019-MOT-val/sequences\\\\uav0000086_00000_v\\\\0000030.jpg',\n",
       " 'D:visdrone\\\\VisDrone2019-MOT-val/sequences\\\\uav0000086_00000_v\\\\0000031.jpg',\n",
       " 'D:visdrone\\\\VisDrone2019-MOT-val/sequences\\\\uav0000086_00000_v\\\\0000032.jpg',\n",
       " 'D:visdrone\\\\VisDrone2019-MOT-val/sequences\\\\uav0000086_00000_v\\\\0000033.jpg',\n",
       " 'D:visdrone\\\\VisDrone2019-MOT-val/sequences\\\\uav0000086_00000_v\\\\0000034.jpg',\n",
       " 'D:visdrone\\\\VisDrone2019-MOT-val/sequences\\\\uav0000086_00000_v\\\\0000035.jpg',\n",
       " 'D:visdrone\\\\VisDrone2019-MOT-val/sequences\\\\uav0000086_00000_v\\\\0000036.jpg',\n",
       " 'D:visdrone\\\\VisDrone2019-MOT-val/sequences\\\\uav0000086_00000_v\\\\0000037.jpg',\n",
       " 'D:visdrone\\\\VisDrone2019-MOT-val/sequences\\\\uav0000086_00000_v\\\\0000038.jpg',\n",
       " 'D:visdrone\\\\VisDrone2019-MOT-val/sequences\\\\uav0000086_00000_v\\\\0000039.jpg',\n",
       " 'D:visdrone\\\\VisDrone2019-MOT-val/sequences\\\\uav0000086_00000_v\\\\0000040.jpg',\n",
       " 'D:visdrone\\\\VisDrone2019-MOT-val/sequences\\\\uav0000086_00000_v\\\\0000041.jpg',\n",
       " 'D:visdrone\\\\VisDrone2019-MOT-val/sequences\\\\uav0000086_00000_v\\\\0000042.jpg',\n",
       " 'D:visdrone\\\\VisDrone2019-MOT-val/sequences\\\\uav0000086_00000_v\\\\0000043.jpg',\n",
       " 'D:visdrone\\\\VisDrone2019-MOT-val/sequences\\\\uav0000086_00000_v\\\\0000044.jpg',\n",
       " 'D:visdrone\\\\VisDrone2019-MOT-val/sequences\\\\uav0000086_00000_v\\\\0000045.jpg',\n",
       " 'D:visdrone\\\\VisDrone2019-MOT-val/sequences\\\\uav0000086_00000_v\\\\0000046.jpg',\n",
       " 'D:visdrone\\\\VisDrone2019-MOT-val/sequences\\\\uav0000086_00000_v\\\\0000047.jpg',\n",
       " 'D:visdrone\\\\VisDrone2019-MOT-val/sequences\\\\uav0000086_00000_v\\\\0000048.jpg',\n",
       " 'D:visdrone\\\\VisDrone2019-MOT-val/sequences\\\\uav0000086_00000_v\\\\0000049.jpg',\n",
       " 'D:visdrone\\\\VisDrone2019-MOT-val/sequences\\\\uav0000086_00000_v\\\\0000050.jpg',\n",
       " 'D:visdrone\\\\VisDrone2019-MOT-val/sequences\\\\uav0000086_00000_v\\\\0000051.jpg',\n",
       " 'D:visdrone\\\\VisDrone2019-MOT-val/sequences\\\\uav0000086_00000_v\\\\0000052.jpg',\n",
       " 'D:visdrone\\\\VisDrone2019-MOT-val/sequences\\\\uav0000086_00000_v\\\\0000053.jpg',\n",
       " 'D:visdrone\\\\VisDrone2019-MOT-val/sequences\\\\uav0000086_00000_v\\\\0000054.jpg',\n",
       " 'D:visdrone\\\\VisDrone2019-MOT-val/sequences\\\\uav0000086_00000_v\\\\0000055.jpg',\n",
       " 'D:visdrone\\\\VisDrone2019-MOT-val/sequences\\\\uav0000086_00000_v\\\\0000056.jpg',\n",
       " 'D:visdrone\\\\VisDrone2019-MOT-val/sequences\\\\uav0000086_00000_v\\\\0000057.jpg',\n",
       " 'D:visdrone\\\\VisDrone2019-MOT-val/sequences\\\\uav0000086_00000_v\\\\0000058.jpg',\n",
       " 'D:visdrone\\\\VisDrone2019-MOT-val/sequences\\\\uav0000086_00000_v\\\\0000059.jpg',\n",
       " 'D:visdrone\\\\VisDrone2019-MOT-val/sequences\\\\uav0000086_00000_v\\\\0000060.jpg',\n",
       " 'D:visdrone\\\\VisDrone2019-MOT-val/sequences\\\\uav0000086_00000_v\\\\0000061.jpg',\n",
       " 'D:visdrone\\\\VisDrone2019-MOT-val/sequences\\\\uav0000086_00000_v\\\\0000062.jpg',\n",
       " 'D:visdrone\\\\VisDrone2019-MOT-val/sequences\\\\uav0000086_00000_v\\\\0000063.jpg',\n",
       " 'D:visdrone\\\\VisDrone2019-MOT-val/sequences\\\\uav0000086_00000_v\\\\0000064.jpg',\n",
       " 'D:visdrone\\\\VisDrone2019-MOT-val/sequences\\\\uav0000086_00000_v\\\\0000065.jpg',\n",
       " 'D:visdrone\\\\VisDrone2019-MOT-val/sequences\\\\uav0000086_00000_v\\\\0000066.jpg',\n",
       " 'D:visdrone\\\\VisDrone2019-MOT-val/sequences\\\\uav0000086_00000_v\\\\0000067.jpg',\n",
       " 'D:visdrone\\\\VisDrone2019-MOT-val/sequences\\\\uav0000086_00000_v\\\\0000068.jpg',\n",
       " 'D:visdrone\\\\VisDrone2019-MOT-val/sequences\\\\uav0000086_00000_v\\\\0000069.jpg',\n",
       " 'D:visdrone\\\\VisDrone2019-MOT-val/sequences\\\\uav0000086_00000_v\\\\0000070.jpg',\n",
       " 'D:visdrone\\\\VisDrone2019-MOT-val/sequences\\\\uav0000086_00000_v\\\\0000071.jpg',\n",
       " 'D:visdrone\\\\VisDrone2019-MOT-val/sequences\\\\uav0000086_00000_v\\\\0000072.jpg',\n",
       " 'D:visdrone\\\\VisDrone2019-MOT-val/sequences\\\\uav0000086_00000_v\\\\0000073.jpg',\n",
       " 'D:visdrone\\\\VisDrone2019-MOT-val/sequences\\\\uav0000086_00000_v\\\\0000074.jpg',\n",
       " 'D:visdrone\\\\VisDrone2019-MOT-val/sequences\\\\uav0000086_00000_v\\\\0000075.jpg',\n",
       " 'D:visdrone\\\\VisDrone2019-MOT-val/sequences\\\\uav0000086_00000_v\\\\0000076.jpg',\n",
       " 'D:visdrone\\\\VisDrone2019-MOT-val/sequences\\\\uav0000086_00000_v\\\\0000077.jpg',\n",
       " 'D:visdrone\\\\VisDrone2019-MOT-val/sequences\\\\uav0000086_00000_v\\\\0000078.jpg',\n",
       " 'D:visdrone\\\\VisDrone2019-MOT-val/sequences\\\\uav0000086_00000_v\\\\0000079.jpg',\n",
       " 'D:visdrone\\\\VisDrone2019-MOT-val/sequences\\\\uav0000086_00000_v\\\\0000080.jpg',\n",
       " 'D:visdrone\\\\VisDrone2019-MOT-val/sequences\\\\uav0000086_00000_v\\\\0000081.jpg',\n",
       " 'D:visdrone\\\\VisDrone2019-MOT-val/sequences\\\\uav0000086_00000_v\\\\0000082.jpg',\n",
       " 'D:visdrone\\\\VisDrone2019-MOT-val/sequences\\\\uav0000086_00000_v\\\\0000083.jpg',\n",
       " 'D:visdrone\\\\VisDrone2019-MOT-val/sequences\\\\uav0000086_00000_v\\\\0000084.jpg',\n",
       " 'D:visdrone\\\\VisDrone2019-MOT-val/sequences\\\\uav0000086_00000_v\\\\0000085.jpg',\n",
       " 'D:visdrone\\\\VisDrone2019-MOT-val/sequences\\\\uav0000086_00000_v\\\\0000086.jpg',\n",
       " 'D:visdrone\\\\VisDrone2019-MOT-val/sequences\\\\uav0000086_00000_v\\\\0000087.jpg',\n",
       " 'D:visdrone\\\\VisDrone2019-MOT-val/sequences\\\\uav0000086_00000_v\\\\0000088.jpg',\n",
       " 'D:visdrone\\\\VisDrone2019-MOT-val/sequences\\\\uav0000086_00000_v\\\\0000089.jpg',\n",
       " 'D:visdrone\\\\VisDrone2019-MOT-val/sequences\\\\uav0000086_00000_v\\\\0000090.jpg',\n",
       " 'D:visdrone\\\\VisDrone2019-MOT-val/sequences\\\\uav0000086_00000_v\\\\0000091.jpg',\n",
       " 'D:visdrone\\\\VisDrone2019-MOT-val/sequences\\\\uav0000086_00000_v\\\\0000092.jpg',\n",
       " 'D:visdrone\\\\VisDrone2019-MOT-val/sequences\\\\uav0000086_00000_v\\\\0000093.jpg',\n",
       " 'D:visdrone\\\\VisDrone2019-MOT-val/sequences\\\\uav0000086_00000_v\\\\0000094.jpg',\n",
       " 'D:visdrone\\\\VisDrone2019-MOT-val/sequences\\\\uav0000086_00000_v\\\\0000095.jpg',\n",
       " 'D:visdrone\\\\VisDrone2019-MOT-val/sequences\\\\uav0000086_00000_v\\\\0000096.jpg',\n",
       " 'D:visdrone\\\\VisDrone2019-MOT-val/sequences\\\\uav0000086_00000_v\\\\0000097.jpg',\n",
       " 'D:visdrone\\\\VisDrone2019-MOT-val/sequences\\\\uav0000086_00000_v\\\\0000098.jpg',\n",
       " 'D:visdrone\\\\VisDrone2019-MOT-val/sequences\\\\uav0000086_00000_v\\\\0000099.jpg',\n",
       " 'D:visdrone\\\\VisDrone2019-MOT-val/sequences\\\\uav0000086_00000_v\\\\0000100.jpg',\n",
       " 'D:visdrone\\\\VisDrone2019-MOT-val/sequences\\\\uav0000086_00000_v\\\\0000101.jpg',\n",
       " 'D:visdrone\\\\VisDrone2019-MOT-val/sequences\\\\uav0000086_00000_v\\\\0000102.jpg',\n",
       " 'D:visdrone\\\\VisDrone2019-MOT-val/sequences\\\\uav0000086_00000_v\\\\0000103.jpg',\n",
       " 'D:visdrone\\\\VisDrone2019-MOT-val/sequences\\\\uav0000086_00000_v\\\\0000104.jpg',\n",
       " 'D:visdrone\\\\VisDrone2019-MOT-val/sequences\\\\uav0000086_00000_v\\\\0000105.jpg',\n",
       " 'D:visdrone\\\\VisDrone2019-MOT-val/sequences\\\\uav0000086_00000_v\\\\0000106.jpg',\n",
       " 'D:visdrone\\\\VisDrone2019-MOT-val/sequences\\\\uav0000086_00000_v\\\\0000107.jpg',\n",
       " 'D:visdrone\\\\VisDrone2019-MOT-val/sequences\\\\uav0000086_00000_v\\\\0000108.jpg',\n",
       " 'D:visdrone\\\\VisDrone2019-MOT-val/sequences\\\\uav0000086_00000_v\\\\0000109.jpg',\n",
       " 'D:visdrone\\\\VisDrone2019-MOT-val/sequences\\\\uav0000086_00000_v\\\\0000110.jpg',\n",
       " 'D:visdrone\\\\VisDrone2019-MOT-val/sequences\\\\uav0000086_00000_v\\\\0000111.jpg',\n",
       " 'D:visdrone\\\\VisDrone2019-MOT-val/sequences\\\\uav0000086_00000_v\\\\0000112.jpg',\n",
       " 'D:visdrone\\\\VisDrone2019-MOT-val/sequences\\\\uav0000086_00000_v\\\\0000113.jpg',\n",
       " 'D:visdrone\\\\VisDrone2019-MOT-val/sequences\\\\uav0000086_00000_v\\\\0000114.jpg',\n",
       " 'D:visdrone\\\\VisDrone2019-MOT-val/sequences\\\\uav0000086_00000_v\\\\0000115.jpg',\n",
       " 'D:visdrone\\\\VisDrone2019-MOT-val/sequences\\\\uav0000086_00000_v\\\\0000116.jpg',\n",
       " 'D:visdrone\\\\VisDrone2019-MOT-val/sequences\\\\uav0000086_00000_v\\\\0000117.jpg',\n",
       " 'D:visdrone\\\\VisDrone2019-MOT-val/sequences\\\\uav0000086_00000_v\\\\0000118.jpg',\n",
       " 'D:visdrone\\\\VisDrone2019-MOT-val/sequences\\\\uav0000086_00000_v\\\\0000119.jpg',\n",
       " 'D:visdrone\\\\VisDrone2019-MOT-val/sequences\\\\uav0000086_00000_v\\\\0000120.jpg',\n",
       " 'D:visdrone\\\\VisDrone2019-MOT-val/sequences\\\\uav0000086_00000_v\\\\0000121.jpg',\n",
       " 'D:visdrone\\\\VisDrone2019-MOT-val/sequences\\\\uav0000086_00000_v\\\\0000122.jpg',\n",
       " 'D:visdrone\\\\VisDrone2019-MOT-val/sequences\\\\uav0000086_00000_v\\\\0000123.jpg',\n",
       " 'D:visdrone\\\\VisDrone2019-MOT-val/sequences\\\\uav0000086_00000_v\\\\0000124.jpg',\n",
       " 'D:visdrone\\\\VisDrone2019-MOT-val/sequences\\\\uav0000086_00000_v\\\\0000125.jpg',\n",
       " 'D:visdrone\\\\VisDrone2019-MOT-val/sequences\\\\uav0000086_00000_v\\\\0000126.jpg',\n",
       " 'D:visdrone\\\\VisDrone2019-MOT-val/sequences\\\\uav0000086_00000_v\\\\0000127.jpg',\n",
       " 'D:visdrone\\\\VisDrone2019-MOT-val/sequences\\\\uav0000086_00000_v\\\\0000128.jpg',\n",
       " 'D:visdrone\\\\VisDrone2019-MOT-val/sequences\\\\uav0000086_00000_v\\\\0000129.jpg',\n",
       " 'D:visdrone\\\\VisDrone2019-MOT-val/sequences\\\\uav0000086_00000_v\\\\0000130.jpg',\n",
       " 'D:visdrone\\\\VisDrone2019-MOT-val/sequences\\\\uav0000086_00000_v\\\\0000131.jpg',\n",
       " 'D:visdrone\\\\VisDrone2019-MOT-val/sequences\\\\uav0000086_00000_v\\\\0000132.jpg',\n",
       " 'D:visdrone\\\\VisDrone2019-MOT-val/sequences\\\\uav0000086_00000_v\\\\0000133.jpg',\n",
       " 'D:visdrone\\\\VisDrone2019-MOT-val/sequences\\\\uav0000086_00000_v\\\\0000134.jpg',\n",
       " 'D:visdrone\\\\VisDrone2019-MOT-val/sequences\\\\uav0000086_00000_v\\\\0000135.jpg',\n",
       " 'D:visdrone\\\\VisDrone2019-MOT-val/sequences\\\\uav0000086_00000_v\\\\0000136.jpg',\n",
       " 'D:visdrone\\\\VisDrone2019-MOT-val/sequences\\\\uav0000086_00000_v\\\\0000137.jpg',\n",
       " 'D:visdrone\\\\VisDrone2019-MOT-val/sequences\\\\uav0000086_00000_v\\\\0000138.jpg',\n",
       " 'D:visdrone\\\\VisDrone2019-MOT-val/sequences\\\\uav0000086_00000_v\\\\0000139.jpg',\n",
       " 'D:visdrone\\\\VisDrone2019-MOT-val/sequences\\\\uav0000086_00000_v\\\\0000140.jpg',\n",
       " 'D:visdrone\\\\VisDrone2019-MOT-val/sequences\\\\uav0000086_00000_v\\\\0000141.jpg',\n",
       " 'D:visdrone\\\\VisDrone2019-MOT-val/sequences\\\\uav0000086_00000_v\\\\0000142.jpg',\n",
       " 'D:visdrone\\\\VisDrone2019-MOT-val/sequences\\\\uav0000086_00000_v\\\\0000143.jpg',\n",
       " 'D:visdrone\\\\VisDrone2019-MOT-val/sequences\\\\uav0000086_00000_v\\\\0000144.jpg',\n",
       " 'D:visdrone\\\\VisDrone2019-MOT-val/sequences\\\\uav0000086_00000_v\\\\0000145.jpg',\n",
       " 'D:visdrone\\\\VisDrone2019-MOT-val/sequences\\\\uav0000086_00000_v\\\\0000146.jpg',\n",
       " 'D:visdrone\\\\VisDrone2019-MOT-val/sequences\\\\uav0000086_00000_v\\\\0000147.jpg',\n",
       " 'D:visdrone\\\\VisDrone2019-MOT-val/sequences\\\\uav0000086_00000_v\\\\0000148.jpg',\n",
       " 'D:visdrone\\\\VisDrone2019-MOT-val/sequences\\\\uav0000086_00000_v\\\\0000149.jpg',\n",
       " 'D:visdrone\\\\VisDrone2019-MOT-val/sequences\\\\uav0000086_00000_v\\\\0000150.jpg',\n",
       " 'D:visdrone\\\\VisDrone2019-MOT-val/sequences\\\\uav0000086_00000_v\\\\0000151.jpg',\n",
       " 'D:visdrone\\\\VisDrone2019-MOT-val/sequences\\\\uav0000086_00000_v\\\\0000152.jpg',\n",
       " 'D:visdrone\\\\VisDrone2019-MOT-val/sequences\\\\uav0000086_00000_v\\\\0000153.jpg',\n",
       " 'D:visdrone\\\\VisDrone2019-MOT-val/sequences\\\\uav0000086_00000_v\\\\0000154.jpg',\n",
       " 'D:visdrone\\\\VisDrone2019-MOT-val/sequences\\\\uav0000086_00000_v\\\\0000155.jpg',\n",
       " 'D:visdrone\\\\VisDrone2019-MOT-val/sequences\\\\uav0000086_00000_v\\\\0000156.jpg',\n",
       " 'D:visdrone\\\\VisDrone2019-MOT-val/sequences\\\\uav0000086_00000_v\\\\0000157.jpg',\n",
       " 'D:visdrone\\\\VisDrone2019-MOT-val/sequences\\\\uav0000086_00000_v\\\\0000158.jpg',\n",
       " 'D:visdrone\\\\VisDrone2019-MOT-val/sequences\\\\uav0000086_00000_v\\\\0000159.jpg',\n",
       " 'D:visdrone\\\\VisDrone2019-MOT-val/sequences\\\\uav0000086_00000_v\\\\0000160.jpg',\n",
       " 'D:visdrone\\\\VisDrone2019-MOT-val/sequences\\\\uav0000086_00000_v\\\\0000161.jpg',\n",
       " 'D:visdrone\\\\VisDrone2019-MOT-val/sequences\\\\uav0000086_00000_v\\\\0000162.jpg',\n",
       " 'D:visdrone\\\\VisDrone2019-MOT-val/sequences\\\\uav0000086_00000_v\\\\0000163.jpg',\n",
       " 'D:visdrone\\\\VisDrone2019-MOT-val/sequences\\\\uav0000086_00000_v\\\\0000164.jpg',\n",
       " 'D:visdrone\\\\VisDrone2019-MOT-val/sequences\\\\uav0000086_00000_v\\\\0000165.jpg',\n",
       " 'D:visdrone\\\\VisDrone2019-MOT-val/sequences\\\\uav0000086_00000_v\\\\0000166.jpg',\n",
       " 'D:visdrone\\\\VisDrone2019-MOT-val/sequences\\\\uav0000086_00000_v\\\\0000167.jpg',\n",
       " 'D:visdrone\\\\VisDrone2019-MOT-val/sequences\\\\uav0000086_00000_v\\\\0000168.jpg',\n",
       " 'D:visdrone\\\\VisDrone2019-MOT-val/sequences\\\\uav0000086_00000_v\\\\0000169.jpg',\n",
       " 'D:visdrone\\\\VisDrone2019-MOT-val/sequences\\\\uav0000086_00000_v\\\\0000170.jpg',\n",
       " 'D:visdrone\\\\VisDrone2019-MOT-val/sequences\\\\uav0000086_00000_v\\\\0000171.jpg',\n",
       " 'D:visdrone\\\\VisDrone2019-MOT-val/sequences\\\\uav0000086_00000_v\\\\0000172.jpg',\n",
       " 'D:visdrone\\\\VisDrone2019-MOT-val/sequences\\\\uav0000086_00000_v\\\\0000173.jpg',\n",
       " 'D:visdrone\\\\VisDrone2019-MOT-val/sequences\\\\uav0000086_00000_v\\\\0000174.jpg',\n",
       " 'D:visdrone\\\\VisDrone2019-MOT-val/sequences\\\\uav0000086_00000_v\\\\0000175.jpg',\n",
       " 'D:visdrone\\\\VisDrone2019-MOT-val/sequences\\\\uav0000086_00000_v\\\\0000176.jpg',\n",
       " 'D:visdrone\\\\VisDrone2019-MOT-val/sequences\\\\uav0000086_00000_v\\\\0000177.jpg',\n",
       " 'D:visdrone\\\\VisDrone2019-MOT-val/sequences\\\\uav0000086_00000_v\\\\0000178.jpg',\n",
       " 'D:visdrone\\\\VisDrone2019-MOT-val/sequences\\\\uav0000086_00000_v\\\\0000179.jpg',\n",
       " 'D:visdrone\\\\VisDrone2019-MOT-val/sequences\\\\uav0000086_00000_v\\\\0000180.jpg',\n",
       " 'D:visdrone\\\\VisDrone2019-MOT-val/sequences\\\\uav0000086_00000_v\\\\0000181.jpg',\n",
       " 'D:visdrone\\\\VisDrone2019-MOT-val/sequences\\\\uav0000086_00000_v\\\\0000182.jpg',\n",
       " 'D:visdrone\\\\VisDrone2019-MOT-val/sequences\\\\uav0000086_00000_v\\\\0000183.jpg',\n",
       " 'D:visdrone\\\\VisDrone2019-MOT-val/sequences\\\\uav0000086_00000_v\\\\0000184.jpg',\n",
       " 'D:visdrone\\\\VisDrone2019-MOT-val/sequences\\\\uav0000086_00000_v\\\\0000185.jpg',\n",
       " 'D:visdrone\\\\VisDrone2019-MOT-val/sequences\\\\uav0000086_00000_v\\\\0000186.jpg',\n",
       " 'D:visdrone\\\\VisDrone2019-MOT-val/sequences\\\\uav0000086_00000_v\\\\0000187.jpg',\n",
       " 'D:visdrone\\\\VisDrone2019-MOT-val/sequences\\\\uav0000086_00000_v\\\\0000188.jpg',\n",
       " 'D:visdrone\\\\VisDrone2019-MOT-val/sequences\\\\uav0000086_00000_v\\\\0000189.jpg',\n",
       " 'D:visdrone\\\\VisDrone2019-MOT-val/sequences\\\\uav0000086_00000_v\\\\0000190.jpg',\n",
       " 'D:visdrone\\\\VisDrone2019-MOT-val/sequences\\\\uav0000086_00000_v\\\\0000191.jpg',\n",
       " 'D:visdrone\\\\VisDrone2019-MOT-val/sequences\\\\uav0000086_00000_v\\\\0000192.jpg',\n",
       " 'D:visdrone\\\\VisDrone2019-MOT-val/sequences\\\\uav0000086_00000_v\\\\0000193.jpg',\n",
       " 'D:visdrone\\\\VisDrone2019-MOT-val/sequences\\\\uav0000086_00000_v\\\\0000194.jpg',\n",
       " 'D:visdrone\\\\VisDrone2019-MOT-val/sequences\\\\uav0000086_00000_v\\\\0000195.jpg',\n",
       " 'D:visdrone\\\\VisDrone2019-MOT-val/sequences\\\\uav0000086_00000_v\\\\0000196.jpg',\n",
       " 'D:visdrone\\\\VisDrone2019-MOT-val/sequences\\\\uav0000086_00000_v\\\\0000197.jpg',\n",
       " 'D:visdrone\\\\VisDrone2019-MOT-val/sequences\\\\uav0000086_00000_v\\\\0000198.jpg',\n",
       " 'D:visdrone\\\\VisDrone2019-MOT-val/sequences\\\\uav0000086_00000_v\\\\0000199.jpg',\n",
       " 'D:visdrone\\\\VisDrone2019-MOT-val/sequences\\\\uav0000086_00000_v\\\\0000200.jpg',\n",
       " 'D:visdrone\\\\VisDrone2019-MOT-val/sequences\\\\uav0000086_00000_v\\\\0000201.jpg',\n",
       " 'D:visdrone\\\\VisDrone2019-MOT-val/sequences\\\\uav0000086_00000_v\\\\0000202.jpg',\n",
       " 'D:visdrone\\\\VisDrone2019-MOT-val/sequences\\\\uav0000086_00000_v\\\\0000203.jpg',\n",
       " 'D:visdrone\\\\VisDrone2019-MOT-val/sequences\\\\uav0000086_00000_v\\\\0000204.jpg',\n",
       " 'D:visdrone\\\\VisDrone2019-MOT-val/sequences\\\\uav0000086_00000_v\\\\0000205.jpg',\n",
       " 'D:visdrone\\\\VisDrone2019-MOT-val/sequences\\\\uav0000086_00000_v\\\\0000206.jpg',\n",
       " 'D:visdrone\\\\VisDrone2019-MOT-val/sequences\\\\uav0000086_00000_v\\\\0000207.jpg',\n",
       " 'D:visdrone\\\\VisDrone2019-MOT-val/sequences\\\\uav0000086_00000_v\\\\0000208.jpg',\n",
       " 'D:visdrone\\\\VisDrone2019-MOT-val/sequences\\\\uav0000086_00000_v\\\\0000209.jpg',\n",
       " 'D:visdrone\\\\VisDrone2019-MOT-val/sequences\\\\uav0000086_00000_v\\\\0000210.jpg',\n",
       " 'D:visdrone\\\\VisDrone2019-MOT-val/sequences\\\\uav0000086_00000_v\\\\0000211.jpg',\n",
       " 'D:visdrone\\\\VisDrone2019-MOT-val/sequences\\\\uav0000086_00000_v\\\\0000212.jpg',\n",
       " 'D:visdrone\\\\VisDrone2019-MOT-val/sequences\\\\uav0000086_00000_v\\\\0000213.jpg',\n",
       " 'D:visdrone\\\\VisDrone2019-MOT-val/sequences\\\\uav0000086_00000_v\\\\0000214.jpg',\n",
       " 'D:visdrone\\\\VisDrone2019-MOT-val/sequences\\\\uav0000086_00000_v\\\\0000215.jpg',\n",
       " 'D:visdrone\\\\VisDrone2019-MOT-val/sequences\\\\uav0000086_00000_v\\\\0000216.jpg',\n",
       " 'D:visdrone\\\\VisDrone2019-MOT-val/sequences\\\\uav0000086_00000_v\\\\0000217.jpg',\n",
       " 'D:visdrone\\\\VisDrone2019-MOT-val/sequences\\\\uav0000086_00000_v\\\\0000218.jpg',\n",
       " 'D:visdrone\\\\VisDrone2019-MOT-val/sequences\\\\uav0000086_00000_v\\\\0000219.jpg',\n",
       " 'D:visdrone\\\\VisDrone2019-MOT-val/sequences\\\\uav0000086_00000_v\\\\0000220.jpg',\n",
       " 'D:visdrone\\\\VisDrone2019-MOT-val/sequences\\\\uav0000086_00000_v\\\\0000221.jpg',\n",
       " 'D:visdrone\\\\VisDrone2019-MOT-val/sequences\\\\uav0000086_00000_v\\\\0000222.jpg',\n",
       " 'D:visdrone\\\\VisDrone2019-MOT-val/sequences\\\\uav0000086_00000_v\\\\0000223.jpg',\n",
       " 'D:visdrone\\\\VisDrone2019-MOT-val/sequences\\\\uav0000086_00000_v\\\\0000224.jpg',\n",
       " 'D:visdrone\\\\VisDrone2019-MOT-val/sequences\\\\uav0000086_00000_v\\\\0000225.jpg',\n",
       " 'D:visdrone\\\\VisDrone2019-MOT-val/sequences\\\\uav0000086_00000_v\\\\0000226.jpg',\n",
       " 'D:visdrone\\\\VisDrone2019-MOT-val/sequences\\\\uav0000086_00000_v\\\\0000227.jpg',\n",
       " 'D:visdrone\\\\VisDrone2019-MOT-val/sequences\\\\uav0000086_00000_v\\\\0000228.jpg',\n",
       " 'D:visdrone\\\\VisDrone2019-MOT-val/sequences\\\\uav0000086_00000_v\\\\0000229.jpg',\n",
       " 'D:visdrone\\\\VisDrone2019-MOT-val/sequences\\\\uav0000086_00000_v\\\\0000230.jpg',\n",
       " 'D:visdrone\\\\VisDrone2019-MOT-val/sequences\\\\uav0000086_00000_v\\\\0000231.jpg',\n",
       " 'D:visdrone\\\\VisDrone2019-MOT-val/sequences\\\\uav0000086_00000_v\\\\0000232.jpg',\n",
       " 'D:visdrone\\\\VisDrone2019-MOT-val/sequences\\\\uav0000086_00000_v\\\\0000233.jpg',\n",
       " 'D:visdrone\\\\VisDrone2019-MOT-val/sequences\\\\uav0000086_00000_v\\\\0000234.jpg',\n",
       " 'D:visdrone\\\\VisDrone2019-MOT-val/sequences\\\\uav0000086_00000_v\\\\0000235.jpg',\n",
       " 'D:visdrone\\\\VisDrone2019-MOT-val/sequences\\\\uav0000086_00000_v\\\\0000236.jpg',\n",
       " 'D:visdrone\\\\VisDrone2019-MOT-val/sequences\\\\uav0000086_00000_v\\\\0000237.jpg',\n",
       " 'D:visdrone\\\\VisDrone2019-MOT-val/sequences\\\\uav0000086_00000_v\\\\0000238.jpg',\n",
       " 'D:visdrone\\\\VisDrone2019-MOT-val/sequences\\\\uav0000086_00000_v\\\\0000239.jpg',\n",
       " 'D:visdrone\\\\VisDrone2019-MOT-val/sequences\\\\uav0000086_00000_v\\\\0000240.jpg',\n",
       " 'D:visdrone\\\\VisDrone2019-MOT-val/sequences\\\\uav0000086_00000_v\\\\0000241.jpg',\n",
       " 'D:visdrone\\\\VisDrone2019-MOT-val/sequences\\\\uav0000086_00000_v\\\\0000242.jpg',\n",
       " 'D:visdrone\\\\VisDrone2019-MOT-val/sequences\\\\uav0000086_00000_v\\\\0000243.jpg',\n",
       " 'D:visdrone\\\\VisDrone2019-MOT-val/sequences\\\\uav0000086_00000_v\\\\0000244.jpg',\n",
       " 'D:visdrone\\\\VisDrone2019-MOT-val/sequences\\\\uav0000086_00000_v\\\\0000245.jpg',\n",
       " 'D:visdrone\\\\VisDrone2019-MOT-val/sequences\\\\uav0000086_00000_v\\\\0000246.jpg',\n",
       " 'D:visdrone\\\\VisDrone2019-MOT-val/sequences\\\\uav0000086_00000_v\\\\0000247.jpg',\n",
       " 'D:visdrone\\\\VisDrone2019-MOT-val/sequences\\\\uav0000086_00000_v\\\\0000248.jpg',\n",
       " 'D:visdrone\\\\VisDrone2019-MOT-val/sequences\\\\uav0000086_00000_v\\\\0000249.jpg',\n",
       " 'D:visdrone\\\\VisDrone2019-MOT-val/sequences\\\\uav0000086_00000_v\\\\0000250.jpg',\n",
       " 'D:visdrone\\\\VisDrone2019-MOT-val/sequences\\\\uav0000086_00000_v\\\\0000251.jpg',\n",
       " 'D:visdrone\\\\VisDrone2019-MOT-val/sequences\\\\uav0000086_00000_v\\\\0000252.jpg',\n",
       " 'D:visdrone\\\\VisDrone2019-MOT-val/sequences\\\\uav0000086_00000_v\\\\0000253.jpg',\n",
       " 'D:visdrone\\\\VisDrone2019-MOT-val/sequences\\\\uav0000086_00000_v\\\\0000254.jpg',\n",
       " 'D:visdrone\\\\VisDrone2019-MOT-val/sequences\\\\uav0000086_00000_v\\\\0000255.jpg',\n",
       " 'D:visdrone\\\\VisDrone2019-MOT-val/sequences\\\\uav0000086_00000_v\\\\0000256.jpg',\n",
       " 'D:visdrone\\\\VisDrone2019-MOT-val/sequences\\\\uav0000086_00000_v\\\\0000257.jpg',\n",
       " 'D:visdrone\\\\VisDrone2019-MOT-val/sequences\\\\uav0000086_00000_v\\\\0000258.jpg',\n",
       " 'D:visdrone\\\\VisDrone2019-MOT-val/sequences\\\\uav0000086_00000_v\\\\0000259.jpg',\n",
       " 'D:visdrone\\\\VisDrone2019-MOT-val/sequences\\\\uav0000086_00000_v\\\\0000260.jpg',\n",
       " 'D:visdrone\\\\VisDrone2019-MOT-val/sequences\\\\uav0000086_00000_v\\\\0000261.jpg',\n",
       " 'D:visdrone\\\\VisDrone2019-MOT-val/sequences\\\\uav0000086_00000_v\\\\0000262.jpg',\n",
       " 'D:visdrone\\\\VisDrone2019-MOT-val/sequences\\\\uav0000086_00000_v\\\\0000263.jpg',\n",
       " 'D:visdrone\\\\VisDrone2019-MOT-val/sequences\\\\uav0000086_00000_v\\\\0000264.jpg',\n",
       " 'D:visdrone\\\\VisDrone2019-MOT-val/sequences\\\\uav0000086_00000_v\\\\0000265.jpg',\n",
       " 'D:visdrone\\\\VisDrone2019-MOT-val/sequences\\\\uav0000086_00000_v\\\\0000266.jpg',\n",
       " 'D:visdrone\\\\VisDrone2019-MOT-val/sequences\\\\uav0000086_00000_v\\\\0000267.jpg',\n",
       " 'D:visdrone\\\\VisDrone2019-MOT-val/sequences\\\\uav0000086_00000_v\\\\0000268.jpg',\n",
       " 'D:visdrone\\\\VisDrone2019-MOT-val/sequences\\\\uav0000086_00000_v\\\\0000269.jpg',\n",
       " 'D:visdrone\\\\VisDrone2019-MOT-val/sequences\\\\uav0000086_00000_v\\\\0000270.jpg',\n",
       " 'D:visdrone\\\\VisDrone2019-MOT-val/sequences\\\\uav0000086_00000_v\\\\0000271.jpg',\n",
       " 'D:visdrone\\\\VisDrone2019-MOT-val/sequences\\\\uav0000086_00000_v\\\\0000272.jpg',\n",
       " 'D:visdrone\\\\VisDrone2019-MOT-val/sequences\\\\uav0000086_00000_v\\\\0000273.jpg',\n",
       " 'D:visdrone\\\\VisDrone2019-MOT-val/sequences\\\\uav0000086_00000_v\\\\0000274.jpg',\n",
       " 'D:visdrone\\\\VisDrone2019-MOT-val/sequences\\\\uav0000086_00000_v\\\\0000275.jpg',\n",
       " 'D:visdrone\\\\VisDrone2019-MOT-val/sequences\\\\uav0000086_00000_v\\\\0000276.jpg',\n",
       " 'D:visdrone\\\\VisDrone2019-MOT-val/sequences\\\\uav0000086_00000_v\\\\0000277.jpg',\n",
       " 'D:visdrone\\\\VisDrone2019-MOT-val/sequences\\\\uav0000086_00000_v\\\\0000278.jpg',\n",
       " 'D:visdrone\\\\VisDrone2019-MOT-val/sequences\\\\uav0000086_00000_v\\\\0000279.jpg',\n",
       " 'D:visdrone\\\\VisDrone2019-MOT-val/sequences\\\\uav0000086_00000_v\\\\0000280.jpg',\n",
       " 'D:visdrone\\\\VisDrone2019-MOT-val/sequences\\\\uav0000086_00000_v\\\\0000281.jpg',\n",
       " 'D:visdrone\\\\VisDrone2019-MOT-val/sequences\\\\uav0000086_00000_v\\\\0000282.jpg',\n",
       " 'D:visdrone\\\\VisDrone2019-MOT-val/sequences\\\\uav0000086_00000_v\\\\0000283.jpg',\n",
       " 'D:visdrone\\\\VisDrone2019-MOT-val/sequences\\\\uav0000086_00000_v\\\\0000284.jpg',\n",
       " 'D:visdrone\\\\VisDrone2019-MOT-val/sequences\\\\uav0000086_00000_v\\\\0000285.jpg',\n",
       " 'D:visdrone\\\\VisDrone2019-MOT-val/sequences\\\\uav0000086_00000_v\\\\0000286.jpg',\n",
       " 'D:visdrone\\\\VisDrone2019-MOT-val/sequences\\\\uav0000086_00000_v\\\\0000287.jpg',\n",
       " 'D:visdrone\\\\VisDrone2019-MOT-val/sequences\\\\uav0000086_00000_v\\\\0000288.jpg',\n",
       " 'D:visdrone\\\\VisDrone2019-MOT-val/sequences\\\\uav0000086_00000_v\\\\0000289.jpg',\n",
       " 'D:visdrone\\\\VisDrone2019-MOT-val/sequences\\\\uav0000086_00000_v\\\\0000290.jpg',\n",
       " 'D:visdrone\\\\VisDrone2019-MOT-val/sequences\\\\uav0000086_00000_v\\\\0000291.jpg',\n",
       " 'D:visdrone\\\\VisDrone2019-MOT-val/sequences\\\\uav0000086_00000_v\\\\0000292.jpg',\n",
       " 'D:visdrone\\\\VisDrone2019-MOT-val/sequences\\\\uav0000086_00000_v\\\\0000293.jpg',\n",
       " 'D:visdrone\\\\VisDrone2019-MOT-val/sequences\\\\uav0000086_00000_v\\\\0000294.jpg',\n",
       " 'D:visdrone\\\\VisDrone2019-MOT-val/sequences\\\\uav0000086_00000_v\\\\0000295.jpg',\n",
       " 'D:visdrone\\\\VisDrone2019-MOT-val/sequences\\\\uav0000086_00000_v\\\\0000296.jpg',\n",
       " 'D:visdrone\\\\VisDrone2019-MOT-val/sequences\\\\uav0000086_00000_v\\\\0000297.jpg',\n",
       " 'D:visdrone\\\\VisDrone2019-MOT-val/sequences\\\\uav0000086_00000_v\\\\0000298.jpg',\n",
       " 'D:visdrone\\\\VisDrone2019-MOT-val/sequences\\\\uav0000086_00000_v\\\\0000299.jpg',\n",
       " 'D:visdrone\\\\VisDrone2019-MOT-val/sequences\\\\uav0000086_00000_v\\\\0000300.jpg',\n",
       " 'D:visdrone\\\\VisDrone2019-MOT-val/sequences\\\\uav0000086_00000_v\\\\0000301.jpg',\n",
       " 'D:visdrone\\\\VisDrone2019-MOT-val/sequences\\\\uav0000086_00000_v\\\\0000302.jpg',\n",
       " 'D:visdrone\\\\VisDrone2019-MOT-val/sequences\\\\uav0000086_00000_v\\\\0000303.jpg',\n",
       " 'D:visdrone\\\\VisDrone2019-MOT-val/sequences\\\\uav0000086_00000_v\\\\0000304.jpg',\n",
       " 'D:visdrone\\\\VisDrone2019-MOT-val/sequences\\\\uav0000086_00000_v\\\\0000305.jpg',\n",
       " 'D:visdrone\\\\VisDrone2019-MOT-val/sequences\\\\uav0000086_00000_v\\\\0000306.jpg',\n",
       " 'D:visdrone\\\\VisDrone2019-MOT-val/sequences\\\\uav0000086_00000_v\\\\0000307.jpg',\n",
       " 'D:visdrone\\\\VisDrone2019-MOT-val/sequences\\\\uav0000086_00000_v\\\\0000308.jpg',\n",
       " 'D:visdrone\\\\VisDrone2019-MOT-val/sequences\\\\uav0000086_00000_v\\\\0000309.jpg',\n",
       " 'D:visdrone\\\\VisDrone2019-MOT-val/sequences\\\\uav0000086_00000_v\\\\0000310.jpg',\n",
       " 'D:visdrone\\\\VisDrone2019-MOT-val/sequences\\\\uav0000086_00000_v\\\\0000311.jpg',\n",
       " 'D:visdrone\\\\VisDrone2019-MOT-val/sequences\\\\uav0000086_00000_v\\\\0000312.jpg',\n",
       " 'D:visdrone\\\\VisDrone2019-MOT-val/sequences\\\\uav0000086_00000_v\\\\0000313.jpg',\n",
       " 'D:visdrone\\\\VisDrone2019-MOT-val/sequences\\\\uav0000086_00000_v\\\\0000314.jpg',\n",
       " 'D:visdrone\\\\VisDrone2019-MOT-val/sequences\\\\uav0000086_00000_v\\\\0000315.jpg',\n",
       " 'D:visdrone\\\\VisDrone2019-MOT-val/sequences\\\\uav0000086_00000_v\\\\0000316.jpg',\n",
       " 'D:visdrone\\\\VisDrone2019-MOT-val/sequences\\\\uav0000086_00000_v\\\\0000317.jpg',\n",
       " 'D:visdrone\\\\VisDrone2019-MOT-val/sequences\\\\uav0000086_00000_v\\\\0000318.jpg',\n",
       " 'D:visdrone\\\\VisDrone2019-MOT-val/sequences\\\\uav0000086_00000_v\\\\0000319.jpg',\n",
       " 'D:visdrone\\\\VisDrone2019-MOT-val/sequences\\\\uav0000086_00000_v\\\\0000320.jpg',\n",
       " 'D:visdrone\\\\VisDrone2019-MOT-val/sequences\\\\uav0000086_00000_v\\\\0000321.jpg',\n",
       " 'D:visdrone\\\\VisDrone2019-MOT-val/sequences\\\\uav0000086_00000_v\\\\0000322.jpg',\n",
       " 'D:visdrone\\\\VisDrone2019-MOT-val/sequences\\\\uav0000086_00000_v\\\\0000323.jpg',\n",
       " 'D:visdrone\\\\VisDrone2019-MOT-val/sequences\\\\uav0000086_00000_v\\\\0000324.jpg',\n",
       " 'D:visdrone\\\\VisDrone2019-MOT-val/sequences\\\\uav0000086_00000_v\\\\0000325.jpg',\n",
       " 'D:visdrone\\\\VisDrone2019-MOT-val/sequences\\\\uav0000086_00000_v\\\\0000326.jpg',\n",
       " 'D:visdrone\\\\VisDrone2019-MOT-val/sequences\\\\uav0000086_00000_v\\\\0000327.jpg',\n",
       " 'D:visdrone\\\\VisDrone2019-MOT-val/sequences\\\\uav0000086_00000_v\\\\0000328.jpg',\n",
       " 'D:visdrone\\\\VisDrone2019-MOT-val/sequences\\\\uav0000086_00000_v\\\\0000329.jpg',\n",
       " 'D:visdrone\\\\VisDrone2019-MOT-val/sequences\\\\uav0000086_00000_v\\\\0000330.jpg',\n",
       " 'D:visdrone\\\\VisDrone2019-MOT-val/sequences\\\\uav0000086_00000_v\\\\0000331.jpg',\n",
       " 'D:visdrone\\\\VisDrone2019-MOT-val/sequences\\\\uav0000086_00000_v\\\\0000332.jpg',\n",
       " 'D:visdrone\\\\VisDrone2019-MOT-val/sequences\\\\uav0000086_00000_v\\\\0000333.jpg',\n",
       " 'D:visdrone\\\\VisDrone2019-MOT-val/sequences\\\\uav0000086_00000_v\\\\0000334.jpg',\n",
       " 'D:visdrone\\\\VisDrone2019-MOT-val/sequences\\\\uav0000086_00000_v\\\\0000335.jpg',\n",
       " 'D:visdrone\\\\VisDrone2019-MOT-val/sequences\\\\uav0000086_00000_v\\\\0000336.jpg',\n",
       " 'D:visdrone\\\\VisDrone2019-MOT-val/sequences\\\\uav0000086_00000_v\\\\0000337.jpg',\n",
       " 'D:visdrone\\\\VisDrone2019-MOT-val/sequences\\\\uav0000086_00000_v\\\\0000338.jpg',\n",
       " 'D:visdrone\\\\VisDrone2019-MOT-val/sequences\\\\uav0000086_00000_v\\\\0000339.jpg',\n",
       " 'D:visdrone\\\\VisDrone2019-MOT-val/sequences\\\\uav0000086_00000_v\\\\0000340.jpg',\n",
       " 'D:visdrone\\\\VisDrone2019-MOT-val/sequences\\\\uav0000086_00000_v\\\\0000341.jpg',\n",
       " 'D:visdrone\\\\VisDrone2019-MOT-val/sequences\\\\uav0000086_00000_v\\\\0000342.jpg',\n",
       " 'D:visdrone\\\\VisDrone2019-MOT-val/sequences\\\\uav0000086_00000_v\\\\0000343.jpg',\n",
       " 'D:visdrone\\\\VisDrone2019-MOT-val/sequences\\\\uav0000086_00000_v\\\\0000344.jpg',\n",
       " 'D:visdrone\\\\VisDrone2019-MOT-val/sequences\\\\uav0000086_00000_v\\\\0000345.jpg',\n",
       " 'D:visdrone\\\\VisDrone2019-MOT-val/sequences\\\\uav0000086_00000_v\\\\0000346.jpg',\n",
       " 'D:visdrone\\\\VisDrone2019-MOT-val/sequences\\\\uav0000086_00000_v\\\\0000347.jpg',\n",
       " 'D:visdrone\\\\VisDrone2019-MOT-val/sequences\\\\uav0000086_00000_v\\\\0000348.jpg',\n",
       " 'D:visdrone\\\\VisDrone2019-MOT-val/sequences\\\\uav0000086_00000_v\\\\0000349.jpg',\n",
       " 'D:visdrone\\\\VisDrone2019-MOT-val/sequences\\\\uav0000086_00000_v\\\\0000350.jpg',\n",
       " 'D:visdrone\\\\VisDrone2019-MOT-val/sequences\\\\uav0000086_00000_v\\\\0000351.jpg',\n",
       " 'D:visdrone\\\\VisDrone2019-MOT-val/sequences\\\\uav0000086_00000_v\\\\0000352.jpg',\n",
       " 'D:visdrone\\\\VisDrone2019-MOT-val/sequences\\\\uav0000086_00000_v\\\\0000353.jpg',\n",
       " 'D:visdrone\\\\VisDrone2019-MOT-val/sequences\\\\uav0000086_00000_v\\\\0000354.jpg',\n",
       " 'D:visdrone\\\\VisDrone2019-MOT-val/sequences\\\\uav0000086_00000_v\\\\0000355.jpg',\n",
       " 'D:visdrone\\\\VisDrone2019-MOT-val/sequences\\\\uav0000086_00000_v\\\\0000356.jpg',\n",
       " 'D:visdrone\\\\VisDrone2019-MOT-val/sequences\\\\uav0000086_00000_v\\\\0000357.jpg',\n",
       " 'D:visdrone\\\\VisDrone2019-MOT-val/sequences\\\\uav0000086_00000_v\\\\0000358.jpg',\n",
       " 'D:visdrone\\\\VisDrone2019-MOT-val/sequences\\\\uav0000086_00000_v\\\\0000359.jpg',\n",
       " 'D:visdrone\\\\VisDrone2019-MOT-val/sequences\\\\uav0000086_00000_v\\\\0000360.jpg',\n",
       " 'D:visdrone\\\\VisDrone2019-MOT-val/sequences\\\\uav0000086_00000_v\\\\0000361.jpg',\n",
       " 'D:visdrone\\\\VisDrone2019-MOT-val/sequences\\\\uav0000086_00000_v\\\\0000362.jpg',\n",
       " 'D:visdrone\\\\VisDrone2019-MOT-val/sequences\\\\uav0000086_00000_v\\\\0000363.jpg',\n",
       " 'D:visdrone\\\\VisDrone2019-MOT-val/sequences\\\\uav0000086_00000_v\\\\0000364.jpg',\n",
       " 'D:visdrone\\\\VisDrone2019-MOT-val/sequences\\\\uav0000086_00000_v\\\\0000365.jpg',\n",
       " 'D:visdrone\\\\VisDrone2019-MOT-val/sequences\\\\uav0000086_00000_v\\\\0000366.jpg',\n",
       " 'D:visdrone\\\\VisDrone2019-MOT-val/sequences\\\\uav0000086_00000_v\\\\0000367.jpg',\n",
       " 'D:visdrone\\\\VisDrone2019-MOT-val/sequences\\\\uav0000086_00000_v\\\\0000368.jpg',\n",
       " 'D:visdrone\\\\VisDrone2019-MOT-val/sequences\\\\uav0000086_00000_v\\\\0000369.jpg',\n",
       " 'D:visdrone\\\\VisDrone2019-MOT-val/sequences\\\\uav0000086_00000_v\\\\0000370.jpg',\n",
       " 'D:visdrone\\\\VisDrone2019-MOT-val/sequences\\\\uav0000086_00000_v\\\\0000371.jpg',\n",
       " 'D:visdrone\\\\VisDrone2019-MOT-val/sequences\\\\uav0000086_00000_v\\\\0000372.jpg',\n",
       " 'D:visdrone\\\\VisDrone2019-MOT-val/sequences\\\\uav0000086_00000_v\\\\0000373.jpg',\n",
       " 'D:visdrone\\\\VisDrone2019-MOT-val/sequences\\\\uav0000086_00000_v\\\\0000374.jpg',\n",
       " 'D:visdrone\\\\VisDrone2019-MOT-val/sequences\\\\uav0000086_00000_v\\\\0000375.jpg',\n",
       " 'D:visdrone\\\\VisDrone2019-MOT-val/sequences\\\\uav0000086_00000_v\\\\0000376.jpg',\n",
       " 'D:visdrone\\\\VisDrone2019-MOT-val/sequences\\\\uav0000086_00000_v\\\\0000377.jpg',\n",
       " 'D:visdrone\\\\VisDrone2019-MOT-val/sequences\\\\uav0000086_00000_v\\\\0000378.jpg',\n",
       " 'D:visdrone\\\\VisDrone2019-MOT-val/sequences\\\\uav0000086_00000_v\\\\0000379.jpg',\n",
       " 'D:visdrone\\\\VisDrone2019-MOT-val/sequences\\\\uav0000086_00000_v\\\\0000380.jpg',\n",
       " 'D:visdrone\\\\VisDrone2019-MOT-val/sequences\\\\uav0000086_00000_v\\\\0000381.jpg',\n",
       " 'D:visdrone\\\\VisDrone2019-MOT-val/sequences\\\\uav0000086_00000_v\\\\0000382.jpg',\n",
       " 'D:visdrone\\\\VisDrone2019-MOT-val/sequences\\\\uav0000086_00000_v\\\\0000383.jpg',\n",
       " 'D:visdrone\\\\VisDrone2019-MOT-val/sequences\\\\uav0000086_00000_v\\\\0000384.jpg',\n",
       " 'D:visdrone\\\\VisDrone2019-MOT-val/sequences\\\\uav0000086_00000_v\\\\0000385.jpg',\n",
       " 'D:visdrone\\\\VisDrone2019-MOT-val/sequences\\\\uav0000086_00000_v\\\\0000386.jpg',\n",
       " 'D:visdrone\\\\VisDrone2019-MOT-val/sequences\\\\uav0000086_00000_v\\\\0000387.jpg',\n",
       " 'D:visdrone\\\\VisDrone2019-MOT-val/sequences\\\\uav0000086_00000_v\\\\0000388.jpg',\n",
       " 'D:visdrone\\\\VisDrone2019-MOT-val/sequences\\\\uav0000086_00000_v\\\\0000389.jpg',\n",
       " 'D:visdrone\\\\VisDrone2019-MOT-val/sequences\\\\uav0000086_00000_v\\\\0000390.jpg',\n",
       " 'D:visdrone\\\\VisDrone2019-MOT-val/sequences\\\\uav0000086_00000_v\\\\0000391.jpg',\n",
       " 'D:visdrone\\\\VisDrone2019-MOT-val/sequences\\\\uav0000086_00000_v\\\\0000392.jpg',\n",
       " 'D:visdrone\\\\VisDrone2019-MOT-val/sequences\\\\uav0000086_00000_v\\\\0000393.jpg',\n",
       " 'D:visdrone\\\\VisDrone2019-MOT-val/sequences\\\\uav0000086_00000_v\\\\0000394.jpg',\n",
       " 'D:visdrone\\\\VisDrone2019-MOT-val/sequences\\\\uav0000086_00000_v\\\\0000395.jpg',\n",
       " 'D:visdrone\\\\VisDrone2019-MOT-val/sequences\\\\uav0000086_00000_v\\\\0000396.jpg',\n",
       " 'D:visdrone\\\\VisDrone2019-MOT-val/sequences\\\\uav0000086_00000_v\\\\0000397.jpg',\n",
       " 'D:visdrone\\\\VisDrone2019-MOT-val/sequences\\\\uav0000086_00000_v\\\\0000398.jpg',\n",
       " 'D:visdrone\\\\VisDrone2019-MOT-val/sequences\\\\uav0000086_00000_v\\\\0000399.jpg',\n",
       " 'D:visdrone\\\\VisDrone2019-MOT-val/sequences\\\\uav0000086_00000_v\\\\0000400.jpg',\n",
       " 'D:visdrone\\\\VisDrone2019-MOT-val/sequences\\\\uav0000086_00000_v\\\\0000401.jpg',\n",
       " 'D:visdrone\\\\VisDrone2019-MOT-val/sequences\\\\uav0000086_00000_v\\\\0000402.jpg',\n",
       " 'D:visdrone\\\\VisDrone2019-MOT-val/sequences\\\\uav0000086_00000_v\\\\0000403.jpg',\n",
       " 'D:visdrone\\\\VisDrone2019-MOT-val/sequences\\\\uav0000086_00000_v\\\\0000404.jpg',\n",
       " 'D:visdrone\\\\VisDrone2019-MOT-val/sequences\\\\uav0000086_00000_v\\\\0000405.jpg',\n",
       " 'D:visdrone\\\\VisDrone2019-MOT-val/sequences\\\\uav0000086_00000_v\\\\0000406.jpg',\n",
       " 'D:visdrone\\\\VisDrone2019-MOT-val/sequences\\\\uav0000086_00000_v\\\\0000407.jpg',\n",
       " 'D:visdrone\\\\VisDrone2019-MOT-val/sequences\\\\uav0000086_00000_v\\\\0000408.jpg',\n",
       " 'D:visdrone\\\\VisDrone2019-MOT-val/sequences\\\\uav0000086_00000_v\\\\0000409.jpg',\n",
       " 'D:visdrone\\\\VisDrone2019-MOT-val/sequences\\\\uav0000086_00000_v\\\\0000410.jpg',\n",
       " 'D:visdrone\\\\VisDrone2019-MOT-val/sequences\\\\uav0000086_00000_v\\\\0000411.jpg',\n",
       " 'D:visdrone\\\\VisDrone2019-MOT-val/sequences\\\\uav0000086_00000_v\\\\0000412.jpg',\n",
       " 'D:visdrone\\\\VisDrone2019-MOT-val/sequences\\\\uav0000086_00000_v\\\\0000413.jpg',\n",
       " 'D:visdrone\\\\VisDrone2019-MOT-val/sequences\\\\uav0000086_00000_v\\\\0000414.jpg',\n",
       " 'D:visdrone\\\\VisDrone2019-MOT-val/sequences\\\\uav0000086_00000_v\\\\0000415.jpg',\n",
       " 'D:visdrone\\\\VisDrone2019-MOT-val/sequences\\\\uav0000086_00000_v\\\\0000416.jpg',\n",
       " 'D:visdrone\\\\VisDrone2019-MOT-val/sequences\\\\uav0000086_00000_v\\\\0000417.jpg',\n",
       " 'D:visdrone\\\\VisDrone2019-MOT-val/sequences\\\\uav0000086_00000_v\\\\0000418.jpg',\n",
       " 'D:visdrone\\\\VisDrone2019-MOT-val/sequences\\\\uav0000086_00000_v\\\\0000419.jpg',\n",
       " 'D:visdrone\\\\VisDrone2019-MOT-val/sequences\\\\uav0000086_00000_v\\\\0000420.jpg',\n",
       " 'D:visdrone\\\\VisDrone2019-MOT-val/sequences\\\\uav0000086_00000_v\\\\0000421.jpg',\n",
       " 'D:visdrone\\\\VisDrone2019-MOT-val/sequences\\\\uav0000086_00000_v\\\\0000422.jpg',\n",
       " 'D:visdrone\\\\VisDrone2019-MOT-val/sequences\\\\uav0000086_00000_v\\\\0000423.jpg',\n",
       " 'D:visdrone\\\\VisDrone2019-MOT-val/sequences\\\\uav0000086_00000_v\\\\0000424.jpg',\n",
       " 'D:visdrone\\\\VisDrone2019-MOT-val/sequences\\\\uav0000086_00000_v\\\\0000425.jpg',\n",
       " 'D:visdrone\\\\VisDrone2019-MOT-val/sequences\\\\uav0000086_00000_v\\\\0000426.jpg',\n",
       " 'D:visdrone\\\\VisDrone2019-MOT-val/sequences\\\\uav0000086_00000_v\\\\0000427.jpg',\n",
       " 'D:visdrone\\\\VisDrone2019-MOT-val/sequences\\\\uav0000086_00000_v\\\\0000428.jpg',\n",
       " 'D:visdrone\\\\VisDrone2019-MOT-val/sequences\\\\uav0000086_00000_v\\\\0000429.jpg',\n",
       " 'D:visdrone\\\\VisDrone2019-MOT-val/sequences\\\\uav0000086_00000_v\\\\0000430.jpg',\n",
       " 'D:visdrone\\\\VisDrone2019-MOT-val/sequences\\\\uav0000086_00000_v\\\\0000431.jpg',\n",
       " 'D:visdrone\\\\VisDrone2019-MOT-val/sequences\\\\uav0000086_00000_v\\\\0000432.jpg',\n",
       " 'D:visdrone\\\\VisDrone2019-MOT-val/sequences\\\\uav0000086_00000_v\\\\0000433.jpg',\n",
       " 'D:visdrone\\\\VisDrone2019-MOT-val/sequences\\\\uav0000086_00000_v\\\\0000434.jpg',\n",
       " 'D:visdrone\\\\VisDrone2019-MOT-val/sequences\\\\uav0000086_00000_v\\\\0000435.jpg',\n",
       " 'D:visdrone\\\\VisDrone2019-MOT-val/sequences\\\\uav0000086_00000_v\\\\0000436.jpg',\n",
       " 'D:visdrone\\\\VisDrone2019-MOT-val/sequences\\\\uav0000086_00000_v\\\\0000437.jpg',\n",
       " 'D:visdrone\\\\VisDrone2019-MOT-val/sequences\\\\uav0000086_00000_v\\\\0000438.jpg',\n",
       " 'D:visdrone\\\\VisDrone2019-MOT-val/sequences\\\\uav0000086_00000_v\\\\0000439.jpg',\n",
       " 'D:visdrone\\\\VisDrone2019-MOT-val/sequences\\\\uav0000086_00000_v\\\\0000440.jpg',\n",
       " 'D:visdrone\\\\VisDrone2019-MOT-val/sequences\\\\uav0000086_00000_v\\\\0000441.jpg',\n",
       " 'D:visdrone\\\\VisDrone2019-MOT-val/sequences\\\\uav0000086_00000_v\\\\0000442.jpg',\n",
       " 'D:visdrone\\\\VisDrone2019-MOT-val/sequences\\\\uav0000086_00000_v\\\\0000443.jpg',\n",
       " 'D:visdrone\\\\VisDrone2019-MOT-val/sequences\\\\uav0000086_00000_v\\\\0000444.jpg',\n",
       " 'D:visdrone\\\\VisDrone2019-MOT-val/sequences\\\\uav0000086_00000_v\\\\0000445.jpg',\n",
       " 'D:visdrone\\\\VisDrone2019-MOT-val/sequences\\\\uav0000086_00000_v\\\\0000446.jpg',\n",
       " 'D:visdrone\\\\VisDrone2019-MOT-val/sequences\\\\uav0000086_00000_v\\\\0000447.jpg',\n",
       " 'D:visdrone\\\\VisDrone2019-MOT-val/sequences\\\\uav0000086_00000_v\\\\0000448.jpg',\n",
       " 'D:visdrone\\\\VisDrone2019-MOT-val/sequences\\\\uav0000086_00000_v\\\\0000449.jpg',\n",
       " 'D:visdrone\\\\VisDrone2019-MOT-val/sequences\\\\uav0000086_00000_v\\\\0000450.jpg',\n",
       " 'D:visdrone\\\\VisDrone2019-MOT-val/sequences\\\\uav0000086_00000_v\\\\0000451.jpg',\n",
       " 'D:visdrone\\\\VisDrone2019-MOT-val/sequences\\\\uav0000086_00000_v\\\\0000452.jpg',\n",
       " 'D:visdrone\\\\VisDrone2019-MOT-val/sequences\\\\uav0000086_00000_v\\\\0000453.jpg',\n",
       " 'D:visdrone\\\\VisDrone2019-MOT-val/sequences\\\\uav0000086_00000_v\\\\0000454.jpg',\n",
       " 'D:visdrone\\\\VisDrone2019-MOT-val/sequences\\\\uav0000086_00000_v\\\\0000455.jpg',\n",
       " 'D:visdrone\\\\VisDrone2019-MOT-val/sequences\\\\uav0000086_00000_v\\\\0000456.jpg',\n",
       " 'D:visdrone\\\\VisDrone2019-MOT-val/sequences\\\\uav0000086_00000_v\\\\0000457.jpg',\n",
       " 'D:visdrone\\\\VisDrone2019-MOT-val/sequences\\\\uav0000086_00000_v\\\\0000458.jpg',\n",
       " 'D:visdrone\\\\VisDrone2019-MOT-val/sequences\\\\uav0000086_00000_v\\\\0000459.jpg',\n",
       " 'D:visdrone\\\\VisDrone2019-MOT-val/sequences\\\\uav0000086_00000_v\\\\0000460.jpg',\n",
       " 'D:visdrone\\\\VisDrone2019-MOT-val/sequences\\\\uav0000086_00000_v\\\\0000461.jpg',\n",
       " 'D:visdrone\\\\VisDrone2019-MOT-val/sequences\\\\uav0000086_00000_v\\\\0000462.jpg',\n",
       " 'D:visdrone\\\\VisDrone2019-MOT-val/sequences\\\\uav0000086_00000_v\\\\0000463.jpg',\n",
       " 'D:visdrone\\\\VisDrone2019-MOT-val/sequences\\\\uav0000086_00000_v\\\\0000464.jpg']"
      ]
     },
     "execution_count": 34,
     "metadata": {},
     "output_type": "execute_result"
    }
   ],
   "source": [
    "# val_seq 1 folder sample\n",
    "glob(val_seq[0]+\"/*\")"
   ]
  },
  {
   "cell_type": "code",
   "execution_count": 35,
   "id": "505c6fd8",
   "metadata": {
    "ExecuteTime": {
     "end_time": "2023-06-29T07:35:42.152733Z",
     "start_time": "2023-06-29T07:35:42.122148Z"
    }
   },
   "outputs": [
    {
     "name": "stdout",
     "output_type": "stream",
     "text": [
      "D:visdrone\\VisDrone2019-MOT-val/sequences\\uav0000086_00000_v \t folder length \t: 464\n",
      "D:visdrone\\VisDrone2019-MOT-val/sequences\\uav0000117_02622_v \t folder length \t: 349\n",
      "D:visdrone\\VisDrone2019-MOT-val/sequences\\uav0000137_00458_v \t folder length \t: 233\n",
      "D:visdrone\\VisDrone2019-MOT-val/sequences\\uav0000182_00000_v \t folder length \t: 363\n",
      "D:visdrone\\VisDrone2019-MOT-val/sequences\\uav0000268_05773_v \t folder length \t: 978\n",
      "D:visdrone\\VisDrone2019-MOT-val/sequences\\uav0000305_00000_v \t folder length \t: 184\n",
      "D:visdrone\\VisDrone2019-MOT-val/sequences\\uav0000339_00001_v \t folder length \t: 275\n"
     ]
    }
   ],
   "source": [
    "# images counts per val_seq folder\n",
    "for seq in val_seq:\n",
    "    print(seq, \"\\t folder length \\t:\", len(glob(seq+\"/*\")))"
   ]
  },
  {
   "cell_type": "markdown",
   "id": "97ef9035",
   "metadata": {},
   "source": [
    "# explore annotation"
   ]
  },
  {
   "cell_type": "markdown",
   "id": "74a57137",
   "metadata": {},
   "source": [
    "# make dataframe"
   ]
  },
  {
   "cell_type": "code",
   "execution_count": 36,
   "id": "748755b3",
   "metadata": {
    "ExecuteTime": {
     "end_time": "2023-06-29T07:37:20.096529Z",
     "start_time": "2023-06-29T07:37:20.085349Z"
    }
   },
   "outputs": [
    {
     "data": {
      "text/plain": [
       "'D:visdrone\\\\VisDrone2019-MOT-val/annotations\\\\uav0000086_00000_v.txt'"
      ]
     },
     "execution_count": 36,
     "metadata": {},
     "output_type": "execute_result"
    }
   ],
   "source": [
    "os.val_anno[0]"
   ]
  },
  {
   "cell_type": "code",
   "execution_count": 62,
   "id": "ee0c380a",
   "metadata": {
    "ExecuteTime": {
     "end_time": "2023-06-29T09:02:50.117269Z",
     "start_time": "2023-06-29T09:02:50.110243Z"
    }
   },
   "outputs": [
    {
     "name": "stdout",
     "output_type": "stream",
     "text": [
      "102,0,38,666,71,88,1,1,1,0\n"
     ]
    }
   ],
   "source": [
    "with open(val_anno[0],\"r\") as f:\n",
    "    line = f.readline()\n",
    "    line = line.split()\n",
    "    for i in line:\n",
    "        print(i)"
   ]
  },
  {
   "cell_type": "markdown",
   "id": "da238d6b",
   "metadata": {},
   "source": [
    "0. \"frame_index\" : 비디오 프레임의 프레임 인덱스\n",
    "\n",
    "1. \"target_id\"\t : DETECTION 결과 파일에서 대상의 ID는 상수 -1로 설정되어야 합니다. GROUNDTRUTH 파일에서 대상의 ID는 다른 프레임에서 경계 상자의 시간적 대응 관계를 제공하는 데 사용됩니다.\n",
    "\n",
    "2. bbox_x :\tbbox의 좌상단점의 x 좌표\n",
    "\n",
    "3. bbox_y :\tbbox의 좌상단점의 y 좌표\n",
    "\n",
    "4. bbox_width : bbox 의 너비\n",
    "\n",
    "5. bbox_height : bbox 의 높이\n",
    "\n",
    "6. score : bbox의 신뢰도, GROUNDTRUTH 에서는 1, 0 으로 표시되고 1이 bbox가 평가 되어야 함을 나타냅니다.\n",
    "    \n",
    "7. object_category : \n",
    "    * ignored regions (0)\n",
    "    * pedestrian (1)\n",
    "    * people (2)\n",
    "    * bicycle (3)\n",
    "    * car (4)\n",
    "    * van (5)\n",
    "    * truck (6)\n",
    "    * tricycle (7)\n",
    "    * awning-tricycle (8)\n",
    "    * bus (9)\n",
    "    * motor (10)\n",
    "    * others (11))\n",
    "    \n",
    "8. truncation : 객체가 이미지 프레임에 의해 잘려진 정도를 나타내며 0, 1 의 값을 가집니다. 이때 0은 잘림이 없고 1이 부분적으로 잘렸음(1~50%)을 나타냅니다.\n",
    "    \n",
    "9. occlusion : 객체가 가려진 정도를 나타내며 0, 1, 2 의 값을 가집니다. 이때 0은 0%, 1은 (1%~50%), 2는 (50%~100%) 를 나타냅니다."
   ]
  },
  {
   "cell_type": "markdown",
   "id": "c91bdd54",
   "metadata": {},
   "source": [
    "# make dataframe"
   ]
  },
  {
   "cell_type": "code",
   "execution_count": 88,
   "id": "d7cc8705",
   "metadata": {
    "ExecuteTime": {
     "end_time": "2023-06-29T09:14:44.743477Z",
     "start_time": "2023-06-29T09:14:44.734499Z"
    }
   },
   "outputs": [
    {
     "data": {
      "text/html": [
       "<div>\n",
       "<style scoped>\n",
       "    .dataframe tbody tr th:only-of-type {\n",
       "        vertical-align: middle;\n",
       "    }\n",
       "\n",
       "    .dataframe tbody tr th {\n",
       "        vertical-align: top;\n",
       "    }\n",
       "\n",
       "    .dataframe thead th {\n",
       "        text-align: right;\n",
       "    }\n",
       "</style>\n",
       "<table border=\"1\" class=\"dataframe\">\n",
       "  <thead>\n",
       "    <tr style=\"text-align: right;\">\n",
       "      <th></th>\n",
       "      <th>video_name</th>\n",
       "      <th>frame_index</th>\n",
       "      <th>target_id</th>\n",
       "      <th>xywh</th>\n",
       "      <th>score</th>\n",
       "      <th>class</th>\n",
       "      <th>truncation</th>\n",
       "      <th>occlusion</th>\n",
       "    </tr>\n",
       "  </thead>\n",
       "  <tbody>\n",
       "  </tbody>\n",
       "</table>\n",
       "</div>"
      ],
      "text/plain": [
       "Empty DataFrame\n",
       "Columns: [video_name, frame_index, target_id, xywh, score, class, truncation, occlusion]\n",
       "Index: []"
      ]
     },
     "execution_count": 88,
     "metadata": {},
     "output_type": "execute_result"
    }
   ],
   "source": [
    "df = pd.DataFrame(columns=[\"video_name\",\"frame_index\",\"target_id\" ,\"xywh\",\"score\",\"class\",\"truncation\",\"occlusion\"]); df"
   ]
  },
  {
   "cell_type": "code",
   "execution_count": 96,
   "id": "3becb2cc",
   "metadata": {
    "ExecuteTime": {
     "end_time": "2023-06-29T09:31:15.440527Z",
     "start_time": "2023-06-29T09:18:48.320960Z"
    }
   },
   "outputs": [
    {
     "data": {
      "application/vnd.jupyter.widget-view+json": {
       "model_id": "b9f9d764b5714c1a965e52135daea325",
       "version_major": 2,
       "version_minor": 0
      },
      "text/plain": [
       "  0%|          | 0/7 [00:00<?, ?it/s]"
      ]
     },
     "metadata": {},
     "output_type": "display_data"
    }
   ],
   "source": [
    "df = pd.DataFrame(columns=[\"video_name\",\"frame_index\",\"target_id\" ,\"xywh\",\"score\",\"class\",\"truncation\",\"occlusion\"])\n",
    "\n",
    "idx = 0\n",
    "for file in tqdm(val_anno):\n",
    "    base, name = os.path.split(file)\n",
    "    \n",
    "    name, ex = os.path.splitext(name)\n",
    "    base, _ = os.path.split(base)\n",
    "    \n",
    "    video_name = base+\"/sequences/\"+name+\"/\"\n",
    "\n",
    "    with open(file,\"r\") as f:\n",
    "        while True:\n",
    "            line = f.readline().strip()\n",
    "            if not line:\n",
    "                break\n",
    "            line = line.split(\",\")\n",
    "            df.loc[idx]=[\n",
    "                video_name, # video name : str\n",
    "                line[0].zfill(7), # frame number : str\n",
    "                int(line[1]), # target_id : int\n",
    "                list(map(int, line[2:6])), # xywh : list[int]\n",
    "                int(line[6]), # score : int\n",
    "                int(line[7]), # class : int\n",
    "                int(line[8]), # \"truncation\" : int\n",
    "                int(line[9]), # \"occlusion\" : int\n",
    "            ]\n",
    "            idx +=1"
   ]
  },
  {
   "cell_type": "code",
   "execution_count": 99,
   "id": "292d142c",
   "metadata": {
    "ExecuteTime": {
     "end_time": "2023-06-29T09:31:48.949271Z",
     "start_time": "2023-06-29T09:31:48.567176Z"
    }
   },
   "outputs": [],
   "source": [
    "df.to_csv(\"dataframe.csv\", index=False)"
   ]
  },
  {
   "cell_type": "code",
   "execution_count": null,
   "id": "b594556d",
   "metadata": {},
   "outputs": [],
   "source": []
  }
 ],
 "metadata": {
  "kernelspec": {
   "display_name": "Python 3 (ipykernel)",
   "language": "python",
   "name": "python3"
  },
  "language_info": {
   "codemirror_mode": {
    "name": "ipython",
    "version": 3
   },
   "file_extension": ".py",
   "mimetype": "text/x-python",
   "name": "python",
   "nbconvert_exporter": "python",
   "pygments_lexer": "ipython3",
   "version": "3.9.0"
  }
 },
 "nbformat": 4,
 "nbformat_minor": 5
}
