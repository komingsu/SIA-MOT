{
 "cells": [
  {
   "cell_type": "code",
   "execution_count": 14,
   "id": "aaae4caa",
   "metadata": {
    "ExecuteTime": {
     "end_time": "2023-07-17T01:56:52.134270Z",
     "start_time": "2023-07-17T01:56:52.116668Z"
    }
   },
   "outputs": [
    {
     "data": {
      "text/plain": [
       "[PhysicalDevice(name='/physical_device:CPU:0', device_type='CPU'),\n",
       " PhysicalDevice(name='/physical_device:GPU:0', device_type='GPU')]"
      ]
     },
     "execution_count": 14,
     "metadata": {},
     "output_type": "execute_result"
    }
   ],
   "source": [
    "import tensorflow as tf\n",
    "from absl import flags\n",
    "from absl.flags import FLAGS\n",
    "import numpy as np\n",
    "\n",
    "from tensorflow.keras import Model\n",
    "from tensorflow.keras.layers import (\n",
    "    Add,\n",
    "    Concatenate,\n",
    "    Conv2D,\n",
    "    Input,\n",
    "    Lambda,\n",
    "    LeakyReLU,\n",
    "    MaxPool2D,\n",
    "    UpSampling2D,\n",
    "    ZeroPadding2D,\n",
    ")\n",
    "\n",
    "from tensorflow.keras.regularizers import l2\n",
    "from tensorflow.keras.losses import (\n",
    "    binary_crossentropy,\n",
    "    sparse_categorical_crossentropy\n",
    ")\n",
    "\n",
    "\n",
    "tf.config.list_physical_devices()"
   ]
  },
  {
   "cell_type": "code",
   "execution_count": 21,
   "id": "29d2c9db",
   "metadata": {
    "ExecuteTime": {
     "end_time": "2023-07-17T02:00:41.085938Z",
     "start_time": "2023-07-17T02:00:41.067261Z"
    }
   },
   "outputs": [],
   "source": [
    "def broadcast_iou(box_1, box_2):\n",
    "    # box_1: (..., (x1, y1, x2, y2))\n",
    "    # box_2: (N, (x1, y1, x2, y2))\n",
    "\n",
    "    # broadcast boxes\n",
    "    box_1 = tf.expand_dims(box_1, -2)\n",
    "    box_2 = tf.expand_dims(box_2, 0)\n",
    "    # new_shape: (..., N, (x1, y1, x2, y2))\n",
    "    new_shape = tf.broadcast_dynamic_shape(tf.shape(box_1), tf.shape(box_2))\n",
    "    box_1 = tf.broadcast_to(box_1, new_shape)\n",
    "    box_2 = tf.broadcast_to(box_2, new_shape)\n",
    "\n",
    "    int_w = tf.maximum(tf.minimum(box_1[..., 2], box_2[..., 2]) -\n",
    "                       tf.maximum(box_1[..., 0], box_2[..., 0]), 0)\n",
    "    int_h = tf.maximum(tf.minimum(box_1[..., 3], box_2[..., 3]) -\n",
    "                       tf.maximum(box_1[..., 1], box_2[..., 1]), 0)\n",
    "    int_area = int_w * int_h\n",
    "    box_1_area = (box_1[..., 2] - box_1[..., 0]) * \\\n",
    "        (box_1[..., 3] - box_1[..., 1])\n",
    "    box_2_area = (box_2[..., 2] - box_2[..., 0]) * \\\n",
    "        (box_2[..., 3] - box_2[..., 1])\n",
    "    return int_area / (box_1_area + box_2_area - int_area)"
   ]
  },
  {
   "cell_type": "code",
   "execution_count": 3,
   "id": "1d01fa8c",
   "metadata": {
    "ExecuteTime": {
     "end_time": "2023-07-17T01:51:41.654365Z",
     "start_time": "2023-07-17T01:51:41.643216Z"
    }
   },
   "outputs": [],
   "source": [
    "class BatchNormalization(tf.keras.layers.BatchNormalization):\n",
    "    \"\"\"\n",
    "    Make trainable=False freeze BN for real (the og version is sad)\n",
    "    \"\"\"\n",
    "\n",
    "    def call(self, x, training=False):\n",
    "        if training is None:\n",
    "            training = tf.constant(False)\n",
    "        training = tf.logical_and(training, self.trainable)\n",
    "        return super().call(x, training)"
   ]
  },
  {
   "cell_type": "code",
   "execution_count": 4,
   "id": "301ce357",
   "metadata": {
    "ExecuteTime": {
     "end_time": "2023-07-17T01:51:43.345781Z",
     "start_time": "2023-07-17T01:51:43.338769Z"
    }
   },
   "outputs": [],
   "source": [
    "yolo_max_boxes= 100 # maximum number of detections at one time')\n",
    "yolo_iou_threshold=0.5 # iou threshold\n",
    "yolo_score_threshold= 0.5 # score threshold\n",
    "\n",
    "yolo_anchors = np.array([(10, 13), (16, 30), (33, 23), (30, 61), (62, 45),\n",
    "                         (59, 119), (116, 90), (156, 198), (373, 326)],\n",
    "                        np.float32) / 416\n",
    "yolo_anchor_masks = np.array([[6, 7, 8], [3, 4, 5], [0, 1, 2]])\n",
    "\n",
    "yolo_tiny_anchors = np.array([(10, 14), (23, 27), (37, 58),\n",
    "                              (81, 82), (135, 169),  (344, 319)],\n",
    "                             np.float32) / 416\n",
    "yolo_tiny_anchor_masks = np.array([[3, 4, 5], [0, 1, 2]])"
   ]
  },
  {
   "cell_type": "code",
   "execution_count": 5,
   "id": "e0348e44",
   "metadata": {
    "ExecuteTime": {
     "end_time": "2023-07-17T01:51:45.979660Z",
     "start_time": "2023-07-17T01:51:45.963868Z"
    }
   },
   "outputs": [],
   "source": [
    "def DarknetConv(x, filters, size, strides=1, batch_norm=True):\n",
    "    if strides == 1:\n",
    "        padding = 'same'\n",
    "    else:\n",
    "        x = ZeroPadding2D(((1, 0), (1, 0)))(x)  # top left half-padding\n",
    "        padding = 'valid'\n",
    "    x = Conv2D(filters=filters, kernel_size=size,\n",
    "               strides=strides, padding=padding,\n",
    "               use_bias=not batch_norm, kernel_regularizer=l2(0.0005))(x)\n",
    "    if batch_norm:\n",
    "        x = BatchNormalization()(x)\n",
    "        x = LeakyReLU(alpha=0.1)(x)\n",
    "    return x\n",
    "\n",
    "\n",
    "def DarknetResidual(x, filters):\n",
    "    prev = x\n",
    "    x = DarknetConv(x, filters // 2, 1)\n",
    "    x = DarknetConv(x, filters, 3)\n",
    "    x = Add()([prev, x])\n",
    "    return x\n",
    "\n",
    "\n",
    "def DarknetBlock(x, filters, blocks):\n",
    "    x = DarknetConv(x, filters, 3, strides=2)\n",
    "    for _ in range(blocks):\n",
    "        x = DarknetResidual(x, filters)\n",
    "    return x\n",
    "\n",
    "\n",
    "def Darknet(name=None):\n",
    "    x = inputs = Input([None, None, 3])\n",
    "    x = DarknetConv(x, 32, 3)\n",
    "    x = DarknetBlock(x, 64, 1)\n",
    "    x = DarknetBlock(x, 128, 2)  # skip connection\n",
    "    x = x_36 = DarknetBlock(x, 256, 8)  # skip connection\n",
    "    x = x_61 = DarknetBlock(x, 512, 8)\n",
    "    x = DarknetBlock(x, 1024, 4)\n",
    "    return tf.keras.Model(inputs, (x_36, x_61, x), name=name)"
   ]
  },
  {
   "cell_type": "code",
   "execution_count": 6,
   "id": "9fa3c8f1",
   "metadata": {
    "ExecuteTime": {
     "end_time": "2023-07-17T01:51:47.028450Z",
     "start_time": "2023-07-17T01:51:47.011177Z"
    }
   },
   "outputs": [],
   "source": [
    "def YoloConv(filters, name=None):\n",
    "    def yolo_conv(x_in):\n",
    "        if isinstance(x_in, tuple):\n",
    "            inputs = Input(x_in[0].shape[1:]), Input(x_in[1].shape[1:])\n",
    "            x, x_skip = inputs\n",
    "\n",
    "            # concat with skip connection\n",
    "            x = DarknetConv(x, filters, 1)\n",
    "            x = UpSampling2D(2)(x)\n",
    "            x = Concatenate()([x, x_skip])\n",
    "        else:\n",
    "            x = inputs = Input(x_in.shape[1:])\n",
    "\n",
    "        x = DarknetConv(x, filters, 1)\n",
    "        x = DarknetConv(x, filters * 2, 3)\n",
    "        x = DarknetConv(x, filters, 1)\n",
    "        x = DarknetConv(x, filters * 2, 3)\n",
    "        x = DarknetConv(x, filters, 1)\n",
    "        return Model(inputs, x, name=name)(x_in)\n",
    "    return yolo_conv\n"
   ]
  },
  {
   "cell_type": "code",
   "execution_count": 7,
   "id": "eade5fd1",
   "metadata": {
    "ExecuteTime": {
     "end_time": "2023-07-17T01:52:05.503412Z",
     "start_time": "2023-07-17T01:52:05.483550Z"
    }
   },
   "outputs": [],
   "source": [
    "def YoloOutput(filters, anchors, classes, name=None):\n",
    "    def yolo_output(x_in):\n",
    "        x = inputs = Input(x_in.shape[1:])\n",
    "        x = DarknetConv(x, filters * 2, 3)\n",
    "        x = DarknetConv(x, anchors * (classes + 5), 1, batch_norm=False)\n",
    "        x = Lambda(lambda x: tf.reshape(x, (-1, tf.shape(x)[1], tf.shape(x)[2],\n",
    "                                            anchors, classes + 5)))(x)\n",
    "        return tf.keras.Model(inputs, x, name=name)(x_in)\n",
    "    return yolo_output"
   ]
  },
  {
   "cell_type": "code",
   "execution_count": 8,
   "id": "59d680b9",
   "metadata": {
    "ExecuteTime": {
     "end_time": "2023-07-17T01:52:05.904251Z",
     "start_time": "2023-07-17T01:52:05.891519Z"
    }
   },
   "outputs": [],
   "source": [
    "def yolo_boxes(pred, anchors, classes):\n",
    "    # pred: (batch_size, grid, grid, anchors, (x, y, w, h, obj, ...classes))\n",
    "    grid_size = tf.shape(pred)[1]\n",
    "    box_xy, box_wh, objectness, class_probs = tf.split(pred, (2, 2, 1, classes), axis=-1)\n",
    "\n",
    "    box_xy = tf.sigmoid(box_xy)\n",
    "    objectness = tf.sigmoid(objectness)\n",
    "    class_probs = tf.sigmoid(class_probs)\n",
    "    pred_box = tf.concat((box_xy, box_wh), axis=-1)  # original xywh for loss\n",
    "\n",
    "    # !!! grid[x][y] == (y, x)\n",
    "    grid = tf.meshgrid(tf.range(grid_size), tf.range(grid_size))\n",
    "    grid = tf.expand_dims(tf.stack(grid, axis=-1), axis=2)  # [gx, gy, 1, 2]\n",
    "\n",
    "    box_xy = (box_xy + tf.cast(grid, tf.float32)) / tf.cast(grid_size, tf.float32)\n",
    "    box_wh = tf.exp(box_wh) * anchors\n",
    "\n",
    "    box_x1y1 = box_xy - box_wh / 2\n",
    "    box_x2y2 = box_xy + box_wh / 2\n",
    "    bbox = tf.concat([box_x1y1, box_x2y2], axis=-1)\n",
    "\n",
    "    return bbox, objectness, class_probs, pred_box"
   ]
  },
  {
   "cell_type": "code",
   "execution_count": 9,
   "id": "4e83b903",
   "metadata": {
    "ExecuteTime": {
     "end_time": "2023-07-17T01:52:06.262762Z",
     "start_time": "2023-07-17T01:52:06.251462Z"
    }
   },
   "outputs": [],
   "source": [
    "def yolo_nms(outputs, anchors, masks, classes):\n",
    "    # boxes, conf, type\n",
    "    b, c, t = [], [], []\n",
    "\n",
    "    for o in outputs:\n",
    "        b.append(tf.reshape(o[0], (tf.shape(o[0])[0], -1, tf.shape(o[0])[-1])))\n",
    "        c.append(tf.reshape(o[1], (tf.shape(o[1])[0], -1, tf.shape(o[1])[-1])))\n",
    "        t.append(tf.reshape(o[2], (tf.shape(o[2])[0], -1, tf.shape(o[2])[-1])))\n",
    "\n",
    "    bbox = tf.concat(b, axis=1)\n",
    "    confidence = tf.concat(c, axis=1)\n",
    "    class_probs = tf.concat(t, axis=1)\n",
    "\n",
    "    scores = confidence * class_probs\n",
    "    boxes, scores, classes, valid_detections = tf.image.combined_non_max_suppression(\n",
    "        boxes=tf.reshape(bbox, (tf.shape(bbox)[0], -1, 1, 4)),\n",
    "        scores=tf.reshape(scores, (tf.shape(scores)[0], -1, tf.shape(scores)[-1])),\n",
    "        max_output_size_per_class=FLAGS.yolo_max_boxes,\n",
    "        max_total_size=FLAGS.yolo_max_boxes,\n",
    "        iou_threshold=FLAGS.yolo_iou_threshold,\n",
    "        score_threshold=FLAGS.yolo_score_threshold\n",
    "    )\n",
    "\n",
    "    return boxes, scores, classes, valid_detections"
   ]
  },
  {
   "cell_type": "code",
   "execution_count": 10,
   "id": "952c291c",
   "metadata": {
    "ExecuteTime": {
     "end_time": "2023-07-17T01:53:26.817728Z",
     "start_time": "2023-07-17T01:53:26.806698Z"
    }
   },
   "outputs": [],
   "source": [
    "def YoloV3(size=None,\n",
    "           channels=3,\n",
    "           anchors=yolo_anchors,\n",
    "           masks=yolo_anchor_masks,\n",
    "           classes=80,\n",
    "           training=False):\n",
    "    \n",
    "    physical_devices = tf.config.experimental.list_physical_devices('GPU')\n",
    "    if len(physical_devices) > 0:\n",
    "        tf.config.experimental.set_memory_growth(physical_devices[0], True)\n",
    "    \n",
    "    x = inputs = Input([size, size, channels], name='input')\n",
    "\n",
    "    x_36, x_61, x = Darknet(name='yolo_darknet')(x)\n",
    "\n",
    "    x = YoloConv(512, name='yolo_conv_0')(x)\n",
    "    output_0 = YoloOutput(512, len(masks[0]), classes, name='yolo_output_0')(x)\n",
    "\n",
    "    x = YoloConv(256, name='yolo_conv_1')((x, x_61))\n",
    "    output_1 = YoloOutput(256, len(masks[1]), classes, name='yolo_output_1')(x)\n",
    "\n",
    "    x = YoloConv(128, name='yolo_conv_2')((x, x_36))\n",
    "    output_2 = YoloOutput(128, len(masks[2]), classes, name='yolo_output_2')(x)\n",
    "\n",
    "    if training:\n",
    "        return Model(inputs, (output_0, output_1, output_2), name='yolov3')\n",
    "\n",
    "    boxes_0 = Lambda(lambda x: yolo_boxes(x, anchors[masks[0]], classes),\n",
    "                     name='yolo_boxes_0')(output_0)\n",
    "    boxes_1 = Lambda(lambda x: yolo_boxes(x, anchors[masks[1]], classes),\n",
    "                     name='yolo_boxes_1')(output_1)\n",
    "    boxes_2 = Lambda(lambda x: yolo_boxes(x, anchors[masks[2]], classes),\n",
    "                     name='yolo_boxes_2')(output_2)\n",
    "\n",
    "    outputs = Lambda(lambda x: yolo_nms(x, anchors, masks, classes),\n",
    "                     name='yolo_nms')((boxes_0[:3], boxes_1[:3], boxes_2[:3]))\n",
    "\n",
    "    return Model(inputs, outputs, name='yolov3')"
   ]
  },
  {
   "cell_type": "code",
   "execution_count": 15,
   "id": "c1c18d35",
   "metadata": {
    "ExecuteTime": {
     "end_time": "2023-07-17T01:57:00.163813Z",
     "start_time": "2023-07-17T01:56:57.084072Z"
    }
   },
   "outputs": [],
   "source": [
    "model = YoloV3(size=416, training=True, classes=3)"
   ]
  },
  {
   "cell_type": "code",
   "execution_count": 16,
   "id": "a7d0f6a9",
   "metadata": {
    "ExecuteTime": {
     "end_time": "2023-07-17T01:57:02.481989Z",
     "start_time": "2023-07-17T01:57:02.444805Z"
    }
   },
   "outputs": [
    {
     "name": "stdout",
     "output_type": "stream",
     "text": [
      "Model: \"yolov3\"\n",
      "__________________________________________________________________________________________________\n",
      " Layer (type)                   Output Shape         Param #     Connected to                     \n",
      "==================================================================================================\n",
      " input (InputLayer)             [(None, 416, 416, 3  0           []                               \n",
      "                                )]                                                                \n",
      "                                                                                                  \n",
      " yolo_darknet (Functional)      ((None, None, None,  40620640    ['input[0][0]']                  \n",
      "                                 256),                                                            \n",
      "                                 (None, None, None,                                               \n",
      "                                 512),                                                            \n",
      "                                 (None, None, None,                                               \n",
      "                                 1024))                                                           \n",
      "                                                                                                  \n",
      " yolo_conv_0 (Functional)       (None, 13, 13, 512)  11024384    ['yolo_darknet[0][2]']           \n",
      "                                                                                                  \n",
      " yolo_conv_1 (Functional)       (None, 26, 26, 256)  2957312     ['yolo_conv_0[0][0]',            \n",
      "                                                                  'yolo_darknet[0][1]']           \n",
      "                                                                                                  \n",
      " yolo_conv_2 (Functional)       (None, 52, 52, 128)  741376      ['yolo_conv_1[0][0]',            \n",
      "                                                                  'yolo_darknet[0][0]']           \n",
      "                                                                                                  \n",
      " yolo_output_0 (Functional)     (None, 13, 13, 3, 8  4747288     ['yolo_conv_0[0][0]']            \n",
      "                                )                                                                 \n",
      "                                                                                                  \n",
      " yolo_output_1 (Functional)     (None, 26, 26, 3, 8  1194008     ['yolo_conv_1[0][0]']            \n",
      "                                )                                                                 \n",
      "                                                                                                  \n",
      " yolo_output_2 (Functional)     (None, 52, 52, 3, 8  302104      ['yolo_conv_2[0][0]']            \n",
      "                                )                                                                 \n",
      "                                                                                                  \n",
      "==================================================================================================\n",
      "Total params: 61,587,112\n",
      "Trainable params: 61,534,504\n",
      "Non-trainable params: 52,608\n",
      "__________________________________________________________________________________________________\n"
     ]
    }
   ],
   "source": [
    "model.summary()"
   ]
  },
  {
   "cell_type": "code",
   "execution_count": 19,
   "id": "ed7f44b3",
   "metadata": {
    "ExecuteTime": {
     "end_time": "2023-07-17T01:57:42.116925Z",
     "start_time": "2023-07-17T01:57:41.821025Z"
    }
   },
   "outputs": [
    {
     "data": {
      "image/png": "[encoded data removed]",
      "text/plain": [
       "<IPython.core.display.Image object>"
      ]
     },
     "execution_count": 19,
     "metadata": {},
     "output_type": "execute_result"
    }
   ],
   "source": [
    "tf.keras.utils.plot_model(model, show_shapes=True)"
   ]
  },
  {
   "cell_type": "code",
   "execution_count": 20,
   "id": "a6726618",
   "metadata": {
    "ExecuteTime": {
     "end_time": "2023-07-17T01:59:06.337528Z",
     "start_time": "2023-07-17T01:59:06.311462Z"
    }
   },
   "outputs": [],
   "source": [
    "def YoloLoss(anchors, classes=80, ignore_thresh=0.5):\n",
    "\n",
    "    def yolo_loss(y_true, y_pred):\n",
    "        # 1. transform all pred outputs\n",
    "        # y_pred: (batch_size, grid, grid, anchors, (x, y, w, h, obj, ...cls))\n",
    "        pred_box, pred_obj, pred_class, pred_xywh = yolo_boxes(\n",
    "            y_pred, anchors, classes)\n",
    "        pred_xy = pred_xywh[..., 0:2]\n",
    "        pred_wh = pred_xywh[..., 2:4]\n",
    "\n",
    "        # 2. transform all true outputs\n",
    "        # y_true: (batch_size, grid, grid, anchors, (x1, y1, x2, y2, obj, cls))\n",
    "        true_box, true_obj, true_class_idx = tf.split(y_true, (4, 1, 1),\n",
    "                                                      axis=-1)\n",
    "        true_xy = (true_box[..., 0:2] + true_box[..., 2:4]) / 2\n",
    "        true_wh = true_box[..., 2:4] - true_box[..., 0:2]\n",
    "\n",
    "        # give higher weights to small boxes\n",
    "        box_loss_scale = 2 - true_wh[..., 0] * true_wh[..., 1]\n",
    "\n",
    "        # 3. inverting the pred box equations\n",
    "        grid_size = tf.shape(y_true)[1]\n",
    "        grid = tf.meshgrid(tf.range(grid_size), tf.range(grid_size))\n",
    "        grid = tf.expand_dims(tf.stack(grid, axis=-1), axis=2)\n",
    "        true_xy = true_xy * tf.cast(grid_size, tf.float32) - \\\n",
    "            tf.cast(grid, tf.float32)\n",
    "        true_wh = tf.math.log(true_wh / anchors)\n",
    "        true_wh = tf.where(tf.math.is_inf(true_wh), tf.zeros_like(true_wh),\n",
    "                           true_wh)\n",
    "\n",
    "        # 4. calculate all masks\n",
    "        obj_mask = tf.squeeze(true_obj, -1)\n",
    "        # ignore false positive when iou is over threshold\n",
    "        best_iou = tf.map_fn(\n",
    "            lambda x: tf.reduce_max(broadcast_iou(\n",
    "                x[0], tf.boolean_mask(x[1], tf.cast(x[2], tf.bool))),\n",
    "                                    axis=-1), (pred_box, true_box, obj_mask),\n",
    "            tf.float32)\n",
    "        ignore_mask = tf.cast(best_iou < ignore_thresh, tf.float32)\n",
    "\n",
    "        # 5. calculate all losses\n",
    "        xy_loss = obj_mask * box_loss_scale * \\\n",
    "            tf.reduce_sum(tf.square(true_xy - pred_xy), axis=-1)\n",
    "        wh_loss = obj_mask * box_loss_scale * \\\n",
    "            tf.reduce_sum(tf.square(true_wh - pred_wh), axis=-1)\n",
    "        obj_loss = binary_crossentropy(true_obj, pred_obj)\n",
    "        obj_loss = obj_mask * obj_loss + \\\n",
    "            (1 - obj_mask) * ignore_mask * obj_loss\n",
    "        # TODO: use binary_crossentropy instead\n",
    "        class_loss = obj_mask * sparse_categorical_crossentropy(\n",
    "            true_class_idx, pred_class)\n",
    "\n",
    "        # 6. sum over (batch, gridx, gridy, anchors) => (batch, 1)\n",
    "        xy_loss = tf.reduce_sum(xy_loss, axis=(1, 2, 3))\n",
    "        wh_loss = tf.reduce_sum(wh_loss, axis=(1, 2, 3))\n",
    "        obj_loss = tf.reduce_sum(obj_loss, axis=(1, 2, 3))\n",
    "        class_loss = tf.reduce_sum(class_loss, axis=(1, 2, 3))\n",
    "\n",
    "        return xy_loss + wh_loss + obj_loss + class_loss\n",
    "\n",
    "    return yolo_loss"
   ]
  },
  {
   "cell_type": "code",
   "execution_count": null,
   "id": "bc08a757",
   "metadata": {},
   "outputs": [],
   "source": []
  }
 ],
 "metadata": {
  "kernelspec": {
   "display_name": "Python 3 (ipykernel)",
   "language": "python",
   "name": "python3"
  },
  "language_info": {
   "codemirror_mode": {
    "name": "ipython",
    "version": 3
   },
   "file_extension": ".py",
   "mimetype": "text/x-python",
   "name": "python",
   "nbconvert_exporter": "python",
   "pygments_lexer": "ipython3",
   "version": "3.9.0"
  }
 },
 "nbformat": 4,
 "nbformat_minor": 5
}
