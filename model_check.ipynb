{
 "cells": [
  {
   "cell_type": "code",
   "execution_count": 1,
   "id": "173a3c93",
   "metadata": {
    "ExecuteTime": {
     "end_time": "2023-07-05T02:53:47.559212Z",
     "start_time": "2023-07-05T02:53:42.128543Z"
    }
   },
   "outputs": [],
   "source": [
    "import tensorflow as tf\n",
    "\n",
    "class BatchNormalization(tf.keras.layers.BatchNormalization):\n",
    "\n",
    "    def call(self, x, training=False):\n",
    "        if not training:\n",
    "            training = tf.constant(False)\n",
    "        training = tf.logical_and(training, self.trainable)\n",
    "        return super().call(x, training)"
   ]
  },
  {
   "cell_type": "code",
   "execution_count": 5,
   "id": "55fbe4d1",
   "metadata": {
    "ExecuteTime": {
     "end_time": "2023-07-05T02:56:11.708553Z",
     "start_time": "2023-07-05T02:56:11.699446Z"
    }
   },
   "outputs": [],
   "source": [
    "def convolutional(input_layer,\n",
    "                  filters_shape,\n",
    "                  down_sample=False,\n",
    "                  activate=True,\n",
    "                  batch_norm=True,\n",
    "                  regularization=0.0005,\n",
    "                  reg_stddev=0.01,\n",
    "                  activate_alpha=0.1):\n",
    "\n",
    "    if down_sample:\n",
    "        input_layer = tf.keras.layers.ZeroPadding2D(((1, 0), (1, 0))) (input_layer)\n",
    "        padding = \"valid\"\n",
    "        strides = 2\n",
    "    else:\n",
    "        padding = \"same\"\n",
    "        strides = 1\n",
    "    conv = tf.keras.layers.Conv2D(\n",
    "        filters=filters_shape[-1],\n",
    "        kernel_size=filters_shape[0],\n",
    "        strides=strides,\n",
    "        padding=padding,\n",
    "        use_bias=not batch_norm,\n",
    "        kernel_regularizer=tf.keras.regularizers.l2(regularization),\n",
    "        kernel_initializer=tf.random_normal_initializer(stddev=reg_stddev),\n",
    "        bias_initializer=tf.constant_initializer(0.))(input_layer)\n",
    "\n",
    "    if batch_norm:\n",
    "        conv = BatchNormalization()(conv)\n",
    "    if activate:\n",
    "        conv = tf.nn.leaky_relu(conv, alpha=activate_alpha)\n",
    "\n",
    "    return conv\n",
    "\n",
    "def res_block(input_layer, input_channel, filter_num1, filter_num2):\n",
    "\tshort_cut = input_layer\n",
    "\tconv = convolutional(input_layer, filters_shape=(1,1,input_layer,filter_num1))\n",
    "\tconv = convolutional(conv, filters_shape=(3,3,filter_num1,filter_num2))\n",
    "\n",
    "\tres_output = short_cut+ conv \n",
    "\treturn res_output"
   ]
  },
  {
   "cell_type": "code",
   "execution_count": 6,
   "id": "8f050d80",
   "metadata": {
    "ExecuteTime": {
     "end_time": "2023-07-05T02:56:13.350222Z",
     "start_time": "2023-07-05T02:56:13.331199Z"
    }
   },
   "outputs": [],
   "source": [
    "def darknet53(input_data):\n",
    "    input_data = convolutional(input_data, (3, 3, 3, 32))\n",
    "    input_data = convolutional(input_data, (3, 3, 32, 64), down_sample=True)\n",
    "\n",
    "    for i in range(1):\n",
    "        input_data = res_block(input_data, 64, 32, 64)\n",
    "\n",
    "    input_data = convolutional(input_data, (3, 3, 64, 128), down_sample=True)\n",
    "\n",
    "    for i in range(2):\n",
    "        input_data = res_block(input_data, 128, 64, 128)\n",
    "\n",
    "    input_data = convolutional(input_data, (3, 3, 128, 256), down_sample=True)\n",
    "\n",
    "    for i in range(8):\n",
    "        input_data = res_block(input_data, 256, 128, 256)\n",
    "\n",
    "    route_1 = input_data\n",
    "\n",
    "    input_data = convolutional(input_data, (3, 3, 256, 512), down_sample=True)\n",
    "\n",
    "    for i in range(8):\n",
    "        input_data = res_block(input_data, 512, 256, 512)\n",
    "    route_2 = input_data\n",
    "    input_data = convolutional(input_data, (3, 3, 512, 1024), down_sample=True)\n",
    "\n",
    "    for i in range(4):\n",
    "        input_data = res_block(input_data, 1024, 512, 1024)\n",
    "\n",
    "    return route_1, route_2, input_data\n",
    "\n",
    "\n",
    "def upsample(input_layer):\n",
    "    return tf.image.resize(\n",
    "        input_layer, (input_layer.shape[1] * 2, input_layer.shape[2] * 2),\n",
    "        method='nearest')"
   ]
  },
  {
   "cell_type": "code",
   "execution_count": null,
   "id": "93f95ec6",
   "metadata": {},
   "outputs": [],
   "source": []
  }
 ],
 "metadata": {
  "kernelspec": {
   "display_name": "Python 3 (ipykernel)",
   "language": "python",
   "name": "python3"
  },
  "language_info": {
   "codemirror_mode": {
    "name": "ipython",
    "version": 3
   },
   "file_extension": ".py",
   "mimetype": "text/x-python",
   "name": "python",
   "nbconvert_exporter": "python",
   "pygments_lexer": "ipython3",
   "version": "3.9.0"
  }
 },
 "nbformat": 4,
 "nbformat_minor": 5
}
