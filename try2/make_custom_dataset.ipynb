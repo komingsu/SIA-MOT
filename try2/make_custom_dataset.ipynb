{
 "cells": [
  {
   "cell_type": "code",
   "execution_count": 1,
   "id": "3af93f51",
   "metadata": {
    "ExecuteTime": {
     "end_time": "2023-07-19T08:16:59.857695Z",
     "start_time": "2023-07-19T08:16:59.454823Z"
    }
   },
   "outputs": [],
   "source": [
    "import pandas as pd\n",
    "import ast\n",
    "import numpy as np"
   ]
  },
  {
   "cell_type": "code",
   "execution_count": 2,
   "id": "ae55b8c6",
   "metadata": {
    "ExecuteTime": {
     "end_time": "2023-07-19T08:17:00.759794Z",
     "start_time": "2023-07-19T08:17:00.748961Z"
    }
   },
   "outputs": [],
   "source": [
    "def activate_list_in_dataframe(df):\n",
    "    for i in df.columns:\n",
    "        a = df[i].values[0]\n",
    "        if type(a) == type(\"a\"):\n",
    "            if a.startswith(\"[\"):\n",
    "                df[i] = df[i].apply(lambda x: ast.literal_eval(x))\n",
    "    return df"
   ]
  },
  {
   "cell_type": "code",
   "execution_count": 3,
   "id": "4b3a624c",
   "metadata": {
    "ExecuteTime": {
     "end_time": "2023-07-19T08:17:19.699829Z",
     "start_time": "2023-07-19T08:17:03.909238Z"
    }
   },
   "outputs": [],
   "source": [
    "data_type = [\"val\",\"test\"]\n",
    "\n",
    "for dtype in data_type:\n",
    "    df_path = f\"C:/Users/rh987/OneDrive/document/GitHub/SIA-MOT/EDA/{dtype}_det_df.csv\"\n",
    "    data_path = f\"D:visdrone/VisDrone2019-MOT-{dtype}/sequences/\"\n",
    "    df = pd.read_csv(df_path)\n",
    "    df = activate_list_in_dataframe(df)\n",
    "    df[\"img_path\"] = df[\"img_path\"].apply(lambda x: data_path+x)\n",
    "    print(\"img_path_processed\")\n",
    "    display(df.head(2))"
   ]
  },
  {
   "cell_type": "code",
   "execution_count": 4,
   "id": "da79f7a3",
   "metadata": {
    "ExecuteTime": {
     "end_time": "2023-07-19T08:17:25.844864Z",
     "start_time": "2023-07-19T08:17:25.822819Z"
    }
   },
   "outputs": [
    {
     "data": {
      "text/html": [
       "<div>\n",
       "<style scoped>\n",
       "    .dataframe tbody tr th:only-of-type {\n",
       "        vertical-align: middle;\n",
       "    }\n",
       "\n",
       "    .dataframe tbody tr th {\n",
       "        vertical-align: top;\n",
       "    }\n",
       "\n",
       "    .dataframe thead th {\n",
       "        text-align: right;\n",
       "    }\n",
       "</style>\n",
       "<table border=\"1\" class=\"dataframe\">\n",
       "  <thead>\n",
       "    <tr style=\"text-align: right;\">\n",
       "      <th></th>\n",
       "      <th>video_name</th>\n",
       "      <th>frame_index</th>\n",
       "      <th>img_path</th>\n",
       "      <th>target_ids</th>\n",
       "      <th>x_min</th>\n",
       "      <th>x_max</th>\n",
       "      <th>y_min</th>\n",
       "      <th>y_max</th>\n",
       "      <th>x_cen</th>\n",
       "      <th>y_cen</th>\n",
       "      <th>b_width</th>\n",
       "      <th>b_height</th>\n",
       "      <th>height</th>\n",
       "      <th>width</th>\n",
       "      <th>classes</th>\n",
       "      <th>obj</th>\n",
       "      <th>unified_classes</th>\n",
       "    </tr>\n",
       "  </thead>\n",
       "  <tbody>\n",
       "    <tr>\n",
       "      <th>0</th>\n",
       "      <td>uav0000013_00000_v</td>\n",
       "      <td>1</td>\n",
       "      <td>D:visdrone/VisDrone2019-MOT-train/sequences/ua...</td>\n",
       "      <td>[2, 3, 5, 6, 8, 13, 14, 15, 16, 17, 18, 19, 22...</td>\n",
       "      <td>[424, 416, 591, 454, 445, 492, 543, 622, 532, ...</td>\n",
       "      <td>[459, 452, 623, 475, 465, 508, 579, 649, 560, ...</td>\n",
       "      <td>[543, 530, 422, 413, 403, 398, 390, 391, 377, ...</td>\n",
       "      <td>[631, 615, 501, 461, 460, 441, 433, 460, 405, ...</td>\n",
       "      <td>[441.5, 434.0, 607.0, 464.5, 455.0, 500.0, 561...</td>\n",
       "      <td>[587.0, 572.5, 461.5, 437.0, 431.5, 419.5, 411...</td>\n",
       "      <td>[35, 36, 32, 21, 20, 16, 36, 27, 28, 26, 30, 2...</td>\n",
       "      <td>[88, 85, 79, 48, 57, 43, 43, 69, 28, 25, 27, 6...</td>\n",
       "      <td>756</td>\n",
       "      <td>1344</td>\n",
       "      <td>[0, 0, 0, 0, 0, 0, 0, 0, 0, 0, 0, 0, 0, 0, 0]</td>\n",
       "      <td>[1, 1, 1, 1, 1, 1, 1, 1, 1, 1, 1, 1, 1, 1, 1]</td>\n",
       "      <td>[1, 1, 1, 1, 1, 1, 1, 1, 1, 1, 1, 1, 1, 1, 1]</td>\n",
       "    </tr>\n",
       "    <tr>\n",
       "      <th>1</th>\n",
       "      <td>uav0000013_00000_v</td>\n",
       "      <td>2</td>\n",
       "      <td>D:visdrone/VisDrone2019-MOT-train/sequences/ua...</td>\n",
       "      <td>[2, 3, 5, 6, 8, 13, 14, 15, 16, 17, 18, 19, 22...</td>\n",
       "      <td>[423, 415, 590, 453, 444, 491, 542, 621, 531, ...</td>\n",
       "      <td>[458, 451, 621, 474, 464, 507, 578, 648, 559, ...</td>\n",
       "      <td>[543, 530, 426, 412, 402, 397, 389, 390, 376, ...</td>\n",
       "      <td>[631, 615, 507, 460, 459, 440, 432, 458, 404, ...</td>\n",
       "      <td>[440.5, 433.0, 605.5, 463.5, 454.0, 499.0, 560...</td>\n",
       "      <td>[587.0, 572.5, 466.5, 436.0, 430.5, 418.5, 410...</td>\n",
       "      <td>[35, 36, 31, 21, 20, 16, 36, 27, 28, 26, 30, 2...</td>\n",
       "      <td>[88, 85, 81, 48, 57, 43, 43, 68, 28, 25, 27, 6...</td>\n",
       "      <td>756</td>\n",
       "      <td>1344</td>\n",
       "      <td>[0, 0, 0, 0, 0, 0, 0, 0, 0, 0, 0, 0, 0, 0, 0]</td>\n",
       "      <td>[1, 1, 1, 1, 1, 1, 1, 1, 1, 1, 1, 1, 1, 1, 1]</td>\n",
       "      <td>[1, 1, 1, 1, 1, 1, 1, 1, 1, 1, 1, 1, 1, 1, 1]</td>\n",
       "    </tr>\n",
       "  </tbody>\n",
       "</table>\n",
       "</div>"
      ],
      "text/plain": [
       "           video_name  frame_index  \\\n",
       "0  uav0000013_00000_v            1   \n",
       "1  uav0000013_00000_v            2   \n",
       "\n",
       "                                            img_path  \\\n",
       "0  D:visdrone/VisDrone2019-MOT-train/sequences/ua...   \n",
       "1  D:visdrone/VisDrone2019-MOT-train/sequences/ua...   \n",
       "\n",
       "                                          target_ids  \\\n",
       "0  [2, 3, 5, 6, 8, 13, 14, 15, 16, 17, 18, 19, 22...   \n",
       "1  [2, 3, 5, 6, 8, 13, 14, 15, 16, 17, 18, 19, 22...   \n",
       "\n",
       "                                               x_min  \\\n",
       "0  [424, 416, 591, 454, 445, 492, 543, 622, 532, ...   \n",
       "1  [423, 415, 590, 453, 444, 491, 542, 621, 531, ...   \n",
       "\n",
       "                                               x_max  \\\n",
       "0  [459, 452, 623, 475, 465, 508, 579, 649, 560, ...   \n",
       "1  [458, 451, 621, 474, 464, 507, 578, 648, 559, ...   \n",
       "\n",
       "                                               y_min  \\\n",
       "0  [543, 530, 422, 413, 403, 398, 390, 391, 377, ...   \n",
       "1  [543, 530, 426, 412, 402, 397, 389, 390, 376, ...   \n",
       "\n",
       "                                               y_max  \\\n",
       "0  [631, 615, 501, 461, 460, 441, 433, 460, 405, ...   \n",
       "1  [631, 615, 507, 460, 459, 440, 432, 458, 404, ...   \n",
       "\n",
       "                                               x_cen  \\\n",
       "0  [441.5, 434.0, 607.0, 464.5, 455.0, 500.0, 561...   \n",
       "1  [440.5, 433.0, 605.5, 463.5, 454.0, 499.0, 560...   \n",
       "\n",
       "                                               y_cen  \\\n",
       "0  [587.0, 572.5, 461.5, 437.0, 431.5, 419.5, 411...   \n",
       "1  [587.0, 572.5, 466.5, 436.0, 430.5, 418.5, 410...   \n",
       "\n",
       "                                             b_width  \\\n",
       "0  [35, 36, 32, 21, 20, 16, 36, 27, 28, 26, 30, 2...   \n",
       "1  [35, 36, 31, 21, 20, 16, 36, 27, 28, 26, 30, 2...   \n",
       "\n",
       "                                            b_height  height  width  \\\n",
       "0  [88, 85, 79, 48, 57, 43, 43, 69, 28, 25, 27, 6...     756   1344   \n",
       "1  [88, 85, 81, 48, 57, 43, 43, 68, 28, 25, 27, 6...     756   1344   \n",
       "\n",
       "                                         classes  \\\n",
       "0  [0, 0, 0, 0, 0, 0, 0, 0, 0, 0, 0, 0, 0, 0, 0]   \n",
       "1  [0, 0, 0, 0, 0, 0, 0, 0, 0, 0, 0, 0, 0, 0, 0]   \n",
       "\n",
       "                                             obj  \\\n",
       "0  [1, 1, 1, 1, 1, 1, 1, 1, 1, 1, 1, 1, 1, 1, 1]   \n",
       "1  [1, 1, 1, 1, 1, 1, 1, 1, 1, 1, 1, 1, 1, 1, 1]   \n",
       "\n",
       "                                 unified_classes  \n",
       "0  [1, 1, 1, 1, 1, 1, 1, 1, 1, 1, 1, 1, 1, 1, 1]  \n",
       "1  [1, 1, 1, 1, 1, 1, 1, 1, 1, 1, 1, 1, 1, 1, 1]  "
      ]
     },
     "execution_count": 4,
     "metadata": {},
     "output_type": "execute_result"
    }
   ],
   "source": []
  },
  {
   "cell_type": "code",
   "execution_count": 5,
   "id": "eb8c6923",
   "metadata": {
    "ExecuteTime": {
     "end_time": "2023-07-19T08:17:36.611586Z",
     "start_time": "2023-07-19T08:17:31.710696Z"
    }
   },
   "outputs": [],
   "source": []
  },
  {
   "cell_type": "markdown",
   "id": "a8efb389",
   "metadata": {},
   "source": [
    "# val"
   ]
  },
  {
   "cell_type": "code",
   "execution_count": 6,
   "id": "b3215128",
   "metadata": {
    "ExecuteTime": {
     "end_time": "2023-07-19T08:17:47.258741Z",
     "start_time": "2023-07-19T08:17:45.710875Z"
    }
   },
   "outputs": [],
   "source": [
    "df_path = \"C:/Users/rh987/OneDrive/document/GitHub/SIA-MOT/EDA/val_det_df.csv\"\n",
    "val_data_path = \"D:visdrone/VisDrone2019-MOT-val/sequences/\"\n",
    "\n",
    "df = pd.read_csv(df_path)\n",
    "df = activate_list_in_dataframe(df)\n",
    "df[\"img_path\"] = df[\"img_path\"].apply(lambda x: val_data_path+x)"
   ]
  },
  {
   "cell_type": "code",
   "execution_count": 7,
   "id": "114f3080",
   "metadata": {
    "ExecuteTime": {
     "end_time": "2023-07-19T08:17:48.617947Z",
     "start_time": "2023-07-19T08:17:48.181987Z"
    }
   },
   "outputs": [],
   "source": [
    "output_path = \"./data/dataset/custom_visdrone_val_3class.txt\"\n",
    "\n",
    "f = open(output_path, 'w')\n",
    "for idx in range(len(df)):\n",
    "    if idx % 3==0:\n",
    "        img_path = df[\"img_path\"].values[idx]\n",
    "        obj_counts = len(df[\"x_min\"].values[idx])\n",
    "\n",
    "        target = []\n",
    "        for obj in range(obj_counts):\n",
    "            label = []\n",
    "            label.append(str(df[\"x_min\"].values[idx][obj]))\n",
    "            label.append(str(df[\"y_min\"].values[idx][obj]))\n",
    "            label.append(str(df[\"x_max\"].values[idx][obj]))\n",
    "            label.append(str(df[\"y_max\"].values[idx][obj]))\n",
    "            label.append(str(df[\"classes\"].values[idx][obj]))\n",
    "            target.append(\",\".join(label))\n",
    "        y = \" \".join(target)\n",
    "        write_data = img_path +\" \"+y+\"\\n\"\n",
    "        f.write(write_data)\n",
    "f.close()"
   ]
  },
  {
   "cell_type": "code",
   "execution_count": null,
   "id": "618bb499",
   "metadata": {},
   "outputs": [],
   "source": []
  }
 ],
 "metadata": {
  "kernelspec": {
   "display_name": "Python 3 (ipykernel)",
   "language": "python",
   "name": "python3"
  },
  "language_info": {
   "codemirror_mode": {
    "name": "ipython",
    "version": 3
   },
   "file_extension": ".py",
   "mimetype": "text/x-python",
   "name": "python",
   "nbconvert_exporter": "python",
   "pygments_lexer": "ipython3",
   "version": "3.10.0"
  }
 },
 "nbformat": 4,
 "nbformat_minor": 5
}
