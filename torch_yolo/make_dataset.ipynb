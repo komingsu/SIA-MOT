{
 "cells": [
  {
   "cell_type": "code",
   "execution_count": 1,
   "id": "5d5d405f",
   "metadata": {
    "ExecuteTime": {
     "end_time": "2023-07-20T10:59:36.057249Z",
     "start_time": "2023-07-20T10:59:35.595801Z"
    },
    "collapsed": true
   },
   "outputs": [],
   "source": [
    "import pandas as pd\n",
    "import ast\n",
    "import numpy as np\n",
    "import os\n",
    "import csv\n",
    "from tqdm.auto import tqdm"
   ]
  },
  {
   "cell_type": "markdown",
   "id": "970796c1",
   "metadata": {},
   "source": [
    "# make dataset"
   ]
  },
  {
   "cell_type": "code",
   "execution_count": 2,
   "id": "f58fee00",
   "metadata": {
    "ExecuteTime": {
     "end_time": "2023-07-20T10:59:36.650117Z",
     "start_time": "2023-07-20T10:59:36.635279Z"
    }
   },
   "outputs": [],
   "source": [
    "def activate_list_in_dataframe(df):\n",
    "    for i in df.columns:\n",
    "        a = df[i].values[0]\n",
    "        if type(a) == type(\"a\"):\n",
    "            if a.startswith(\"[\"):\n",
    "                df[i] = df[i].apply(lambda x: ast.literal_eval(x))\n",
    "    return df"
   ]
  },
  {
   "cell_type": "code",
   "execution_count": 4,
   "id": "9a81d455",
   "metadata": {
    "ExecuteTime": {
     "end_time": "2023-07-20T10:59:44.336251Z",
     "start_time": "2023-07-20T10:59:44.332227Z"
    }
   },
   "outputs": [],
   "source": [
    "def _box_clip(boxes_data):\n",
    "    def box_clip(box_data):\n",
    "        return np.clip(box_data, 0, 1)\n",
    "    return np.array([box_clip(box_data) for box_data in boxes_data])"
   ]
  },
  {
   "cell_type": "code",
   "execution_count": 5,
   "id": "9555404a",
   "metadata": {
    "ExecuteTime": {
     "end_time": "2023-07-20T11:01:42.014631Z",
     "start_time": "2023-07-20T10:59:45.620368Z"
    }
   },
   "outputs": [
    {
     "data": {
      "application/vnd.jupyter.widget-view+json": {
       "model_id": "9206b5af4c274f05ad3ce567a30885af",
       "version_major": 2,
       "version_minor": 0
      },
      "text/plain": [
       "  0%|          | 0/24100 [00:00<?, ?it/s]"
      ]
     },
     "metadata": {},
     "output_type": "display_data"
    },
    {
     "data": {
      "application/vnd.jupyter.widget-view+json": {
       "model_id": "681618466a7a4f58927332b85249c5b0",
       "version_major": 2,
       "version_minor": 0
      },
      "text/plain": [
       "  0%|          | 0/2846 [00:00<?, ?it/s]"
      ]
     },
     "metadata": {},
     "output_type": "display_data"
    },
    {
     "data": {
      "application/vnd.jupyter.widget-view+json": {
       "model_id": "62e13e51295047a5a1fbcb1ec5f4dbe9",
       "version_major": 2,
       "version_minor": 0
      },
      "text/plain": [
       "  0%|          | 0/6635 [00:00<?, ?it/s]"
      ]
     },
     "metadata": {},
     "output_type": "display_data"
    }
   ],
   "source": [
    "data_type = [\"train\",\"val\",\"test\"]\n",
    "\n",
    "for dtype in data_type:\n",
    "    df_path = f\"C:/Users/rh987/OneDrive/document/GitHub/SIA-MOT/EDA/{dtype}_det_df.csv\"\n",
    "    data_path = f\"D:visdrone/VisDrone2019-MOT-{dtype}/sequences/\"\n",
    "    \n",
    "    df = pd.read_csv(df_path)\n",
    "    df = activate_list_in_dataframe(df)\n",
    "    df[\"img_path\"] = df[\"img_path\"].apply(lambda x: data_path+x)\n",
    "    df[\"frame_index\"] = df[\"frame_index\"].apply(lambda x: str(x).zfill(7))\n",
    "    df[\"x_cen\"] = [df[\"x_cen\"].values[idx]/df[\"width\"].values[idx] for idx in range(len(df))]\n",
    "    df[\"y_cen\"] = [df[\"y_cen\"].values[idx]/df[\"height\"].values[idx] for idx in range(len(df))]\n",
    "    df[\"b_width\"] = [df[\"b_width\"].values[idx]/df[\"width\"].values[idx] for idx in range(len(df))]\n",
    "    df[\"b_height\"] = [df[\"b_height\"].values[idx]/df[\"height\"].values[idx] for idx in range(len(df))]\n",
    "    df[\"x_cen\"] = df[\"x_cen\"].apply(lambda x: _box_clip(x))\n",
    "    df[\"y_cen\"] = df[\"y_cen\"].apply(lambda x: _box_clip(x))\n",
    "    df[\"b_width\"] = df[\"b_width\"].apply(lambda x: _box_clip(x))\n",
    "    df[\"b_height\"] = df[\"b_height\"].apply(lambda x: _box_clip(x))\n",
    "    files = df.img_path.values\n",
    "    video_name = df.video_name.values\n",
    "    frame_idx = df.frame_index.values\n",
    "#     #####\n",
    "#     output_path = f\"D:/visdrone/dataset/images/\"\n",
    "\n",
    "#     for idx in tqdm(range(len(df))):\n",
    "#         file_name = \"_\".join(files[idx].split(\"/\")[-2:])\n",
    "#         try:\n",
    "#             os.rename(\n",
    "#                 files[idx],\n",
    "#                 output_path+file_name\n",
    "#             )\n",
    "#         except:\n",
    "#             print(\"오류\")\n",
    "#     ##### \n",
    "    output_path = f\"D:/visdrone/dataset/labels/\"\n",
    "\n",
    "    for idx in tqdm(range(len(df))):\n",
    "        file_name = \"_\".join(files[idx].split(\"/\")[-2:])\n",
    "        file_name = file_name.split(\".\")[0]+\".txt\"\n",
    "        f = open(output_path+file_name, 'w')\n",
    "\n",
    "        obj_counts = len(df[\"x_cen\"].values[idx])\n",
    "        for obj in range(obj_counts):\n",
    "            label = []\n",
    "            label.append(str(df[\"classes\"].values[idx][obj]))\n",
    "            label.append(str(df[\"x_cen\"].values[idx][obj]))\n",
    "            label.append(str(df[\"y_cen\"].values[idx][obj]))\n",
    "            label.append(str(df[\"b_width\"].values[idx][obj]))\n",
    "            label.append(str(df[\"b_height\"].values[idx][obj]))\n",
    "            write_data = \" \".join(label)+\"\\n\"\n",
    "            f.write(write_data)\n",
    "    ######\n",
    "    output_path = f\"D:/visdrone/dataset/{dtype}.csv\"\n",
    "\n",
    "    with open(output_path, mode=\"w\", newline=\"\") as train_file:\n",
    "        for idx in range(len(df)):\n",
    "            file_name = \"_\".join(files[idx].split(\"/\")[-2:]).split(\".\")[0]\n",
    "            data = [file_name+\".jpg\", file_name+\".txt\"]\n",
    "            writer = csv.writer(train_file)\n",
    "            writer.writerow(data)"
   ]
  },
  {
   "cell_type": "code",
   "execution_count": null,
   "id": "f666dddc",
   "metadata": {},
   "outputs": [],
   "source": []
  }
 ],
 "metadata": {
  "kernelspec": {
   "display_name": "Python 3 (ipykernel)",
   "language": "python",
   "name": "python3"
  },
  "language_info": {
   "codemirror_mode": {
    "name": "ipython",
    "version": 3
   },
   "file_extension": ".py",
   "mimetype": "text/x-python",
   "name": "python",
   "nbconvert_exporter": "python",
   "pygments_lexer": "ipython3",
   "version": "3.10.0"
  }
 },
 "nbformat": 4,
 "nbformat_minor": 5
}
